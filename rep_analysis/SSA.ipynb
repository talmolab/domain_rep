{
 "cells": [
  {
   "cell_type": "markdown",
   "id": "0225dac1-a79d-47e9-89aa-c99ef477e6af",
   "metadata": {},
   "source": [
    "# Compare Network Activations using Statistical Shape Analysis"
   ]
  },
  {
   "cell_type": "markdown",
   "id": "a9f08914-a856-49eb-87b9-1cde1202c7d3",
   "metadata": {},
   "source": [
    "## Import Necessary Packages"
   ]
  },
  {
   "cell_type": "code",
   "execution_count": 42,
   "id": "b8b087a0-a59f-47de-a72c-02f572a95fe7",
   "metadata": {},
   "outputs": [],
   "source": [
    "import tensorflow as tf\n",
    "from tensorflow import keras\n",
    "import numpy as np\n",
    "import netrep\n",
    "from netrep.metrics import LinearMetric\n",
    "from netrep import conv_layers\n",
    "import os, sys\n",
    "from matplotlib import pyplot as plt\n",
    "import sklearn\n",
    "from sklearn.decomposition import PCA\n",
    "import segmentation_models as sm\n",
    "import h5py as h5\n",
    "import imgaug as ia\n",
    "import imgaug.augmenters as iaa\n",
    "sm.set_framework('tf.keras')"
   ]
  },
  {
   "cell_type": "markdown",
   "id": "277d01b9-63cc-40a0-84f5-24508ddd462b",
   "metadata": {},
   "source": [
    "## Define Necessary Functions"
   ]
  },
  {
   "cell_type": "code",
   "execution_count": 2,
   "id": "e4fc3e4b-9687-46f9-91f5-b9d027e5e0d6",
   "metadata": {},
   "outputs": [],
   "source": [
    "def get_activation_model(model=None,layer_name=None):\n",
    "    layer = None\n",
    "    for l in model.layers:\n",
    "        if l.name == layer_name:\n",
    "            layer = l\n",
    "    return tf.keras.Model(model.input, layer.output)"
   ]
  },
  {
   "cell_type": "code",
   "execution_count": 52,
   "id": "a996b740-ecce-48b6-b8c1-12b38bf83824",
   "metadata": {},
   "outputs": [],
   "source": [
    "def get_activation_tensor(activation_model=None,stimulus=None,gray_scale=False, cremi=False):\n",
    "    if type(stimulus) == str:\n",
    "        with open(stimulus, \"rb\") as f:\n",
    "            img = tf.image.decode_jpeg(f.read())\n",
    "    else:\n",
    "        img = stimulus\n",
    "    if not gray_scale:\n",
    "        if img.shape[-1]==1:\n",
    "            img = tf.image.grayscale_to_rgb(img)\n",
    "    else:\n",
    "        if img.shape[-1]==3:\n",
    "            img = tf.image.rgb_to_grayscale(img)\n",
    "    if not cremi:\n",
    "        img = tf.image.resize(img,(256,256))\n",
    "    activation = activation_model(tf.expand_dims(img, axis=0))\n",
    "    return activation"
   ]
  },
  {
   "cell_type": "markdown",
   "id": "5aea67d9-320f-4347-9cdb-cd7ef7492bd3",
   "metadata": {},
   "source": [
    "## Test Statistical Shape Analysis"
   ]
  },
  {
   "cell_type": "markdown",
   "id": "93abcb08-cac9-4417-a630-8c70602d68ab",
   "metadata": {
    "tags": []
   },
   "source": [
    "### RESNET152"
   ]
  },
  {
   "cell_type": "markdown",
   "id": "01df747c-49ca-4fe8-856a-2567d2cf7ca2",
   "metadata": {},
   "source": [
    "#### V1"
   ]
  },
  {
   "cell_type": "markdown",
   "id": "033abbf0-8628-4ff6-a911-2151bada6485",
   "metadata": {
    "tags": []
   },
   "source": [
    "##### ImageNet Activations"
   ]
  },
  {
   "cell_type": "code",
   "execution_count": 18,
   "id": "b4e27104-4d47-42de-a0bd-e37a1e2bdae7",
   "metadata": {},
   "outputs": [],
   "source": [
    "random_100_imgs = np.random.choice([file for file in os.listdir(\"imagenet-sample-images\") if file.endswith(\".JPEG\")],size=100,replace=False)"
   ]
  },
  {
   "cell_type": "code",
   "execution_count": 19,
   "id": "ff08f69f-60c2-4617-895e-8e9af8381c55",
   "metadata": {
    "tags": []
   },
   "outputs": [
    {
     "name": "stdout",
     "output_type": "stream",
     "text": [
      "(100, 16, 16, 256)\n",
      "(100, 16, 16, 256)\n",
      "(100, 16, 16, 256)\n",
      "(100, 16, 16, 256)\n",
      "(100, 16, 16, 256)\n",
      "(100, 16, 16, 256)\n"
     ]
    }
   ],
   "source": [
    "imgnet_resnet = sm.Unet('resnet152',classes=1,encoder_weights='imagenet', activation='sigmoid')\n",
    "cremi_resnet=keras.models.load_model(\"model_experiments/cremi_resnet152/model_weights/model_weights.ckpt\")\n",
    "layer_names = ['stage3_unit4_relu3','stage3_unit12_relu3','stage3_unit36_relu3']\n",
    "imgnet_activations = []\n",
    "cremi_activations = []\n",
    "for layer in layer_names:\n",
    "    imgnet_activation_model = get_activation_model(model=imgnet_resnet, layer_name=layer)\n",
    "    cremi_activation_model = get_activation_model(model=cremi_resnet, layer_name = layer)\n",
    "    imgnet_activations_layer = tf.stack([tf.squeeze(get_activation_tensor(imgnet_activation_model, os.path.join(\"imagenet-sample-images\", img))) for img in random_100_imgs])\n",
    "    print(imgnet_activations_layer.shape)\n",
    "    cremi_activations_layer = tf.stack([tf.squeeze(get_activation_tensor(cremi_activation_model, os.path.join(\"imagenet-sample-images\", img),gray_scale=True)) for img in random_100_imgs])\n",
    "    print(cremi_activations_layer.shape)\n",
    "    imgnet_activations.append(imgnet_activations_layer)\n",
    "    cremi_activations.append(cremi_activations_layer)"
   ]
  },
  {
   "cell_type": "code",
   "execution_count": 49,
   "id": "6d85d820-4f94-4c5c-b5f7-40ad0a5d667a",
   "metadata": {},
   "outputs": [
    {
     "data": {
      "text/plain": [
       "TensorShape([100, 256, 256, 1])"
      ]
     },
     "execution_count": 49,
     "metadata": {},
     "output_type": "execute_result"
    }
   ],
   "source": [
    "sample_a = h5.File('../datasets/cremi/test/sample_A+_20160601.hdf')['volumes/raw'][:]\n",
    "sample_b = h5.File('../datasets/cremi/test/sample_B+_20160601.hdf')['volumes/raw'][:]\n",
    "sample_c = h5.File('../datasets/cremi/test/sample_C+_20160601.hdf')['volumes/raw'][:]\n",
    "cremi = np.append(sample_a,sample_b,axis=0)\n",
    "cremi = np.append(cremi,sample_b,axis=0)\n",
    "cremi.shape\n",
    "random_indices = np.random.choice(range(cremi.shape[0]),size=100,replace=False)\n",
    "random_cremi=cremi[random_indices]\n",
    "random_cremi = np.expand_dims(random_cremi,axis=-1)\n",
    "crop = iaa.size.CropToFixedSize(256,256)\n",
    "random_cremi = crop.augment_images(images=random_cremi)\n",
    "random_cremi=tf.convert_to_tensor(random_cremi)\n",
    "random_cremi.shape"
   ]
  },
  {
   "cell_type": "code",
   "execution_count": 53,
   "id": "f5ccb9ad-d8ba-4bf4-ad15-1d41b3f74cc5",
   "metadata": {},
   "outputs": [
    {
     "name": "stdout",
     "output_type": "stream",
     "text": [
      "(100, 16, 16, 256)\n",
      "(100, 16, 16, 256)\n",
      "(100, 16, 16, 256)\n",
      "(100, 16, 16, 256)\n",
      "(100, 16, 16, 256)\n",
      "(100, 16, 16, 256)\n"
     ]
    }
   ],
   "source": [
    "imgnet_activations_cremi = []\n",
    "cremi_activations_cremi = []\n",
    "for layer in layer_names:\n",
    "    imgnet_activation_model = get_activation_model(model=imgnet_resnet, layer_name=layer)\n",
    "    cremi_activation_model = get_activation_model(model=cremi_resnet, layer_name = layer)\n",
    "    imgnet_activations_layer = tf.stack([tf.squeeze(get_activation_tensor(imgnet_activation_model, random_cremi[i],cremi=True)) for i in range(random_cremi.shape[0])])\n",
    "    print(imgnet_activations_layer.shape)\n",
    "    cremi_activations_layer = tf.stack([tf.squeeze(get_activation_tensor(cremi_activation_model, random_cremi[i],gray_scale=True,cremi=True)) for i in range(random_cremi.shape[0])])\n",
    "    print(cremi_activations_layer.shape)\n",
    "    imgnet_activations_cremi.append(imgnet_activations_layer)\n",
    "    cremi_activations_cremi.append(cremi_activations_layer)"
   ]
  },
  {
   "cell_type": "code",
   "execution_count": 61,
   "id": "472069e5-ae35-40a0-a1a6-7ecb5943f1fb",
   "metadata": {},
   "outputs": [
    {
     "name": "stderr",
     "output_type": "stream",
     "text": [
      "100%|██████████| 256/256 [00:57<00:00,  4.48it/s]\n",
      "100%|██████████| 256/256 [01:01<00:00,  4.13it/s]\n",
      "100%|██████████| 256/256 [00:59<00:00,  4.28it/s]\n"
     ]
    }
   ],
   "source": [
    "imgnet_v_imgnet_min = []\n",
    "imgnet_v_imgnet_mean = []\n",
    "imgnet_v_imgnet_max = []\n",
    "for imgnet_activation, cremi_activation in zip(imgnet_activations, cremi_activations):\n",
    "    result = conv_layers.convolve_metric(LinearMetric(),imgnet_activation, cremi_activation)\n",
    "    imgnet_v_imgnet_min.append(np.amin(result))\n",
    "    imgnet_v_imgnet_mean.append(np.mean(result))\n",
    "    imgnet_v_imgnet_max.append(np.amax(result))"
   ]
  },
  {
   "cell_type": "code",
   "execution_count": 62,
   "id": "57e0e3fc-7955-47b7-af25-f53f51345bca",
   "metadata": {},
   "outputs": [
    {
     "name": "stderr",
     "output_type": "stream",
     "text": [
      "100%|██████████| 256/256 [01:00<00:00,  4.27it/s]\n",
      "100%|██████████| 256/256 [00:59<00:00,  4.27it/s]\n",
      "100%|██████████| 256/256 [01:00<00:00,  4.25it/s]\n"
     ]
    }
   ],
   "source": [
    "cremi_v_cremi_min = []\n",
    "cremi_v_cremi_mean = []\n",
    "cremi_v_cremi_max = []\n",
    "for imgnet_activation, cremi_activation in zip(imgnet_activations_cremi, cremi_activations_cremi):\n",
    "    result = conv_layers.convolve_metric(LinearMetric(),imgnet_activation, cremi_activation)\n",
    "    cremi_v_cremi_min.append(np.amin(result))\n",
    "    cremi_v_cremi_mean.append(np.mean(result))\n",
    "    cremi_v_cremi_max.append(np.amax(result))"
   ]
  },
  {
   "cell_type": "code",
   "execution_count": 63,
   "id": "d326cae7-0cfb-4a36-b7b4-529999a64693",
   "metadata": {},
   "outputs": [
    {
     "name": "stderr",
     "output_type": "stream",
     "text": [
      "100%|██████████| 256/256 [01:00<00:00,  4.23it/s]\n",
      "100%|██████████| 256/256 [01:00<00:00,  4.23it/s]\n",
      "100%|██████████| 256/256 [01:00<00:00,  4.22it/s]\n"
     ]
    }
   ],
   "source": [
    "imgnet_v_cremi_min = []\n",
    "imgnet_v_cremi_mean = []\n",
    "imgnet_v_cremi_max = []\n",
    "for imgnet_activation, cremi_activation in zip(imgnet_activations, cremi_activations_cremi):\n",
    "    result = conv_layers.convolve_metric(LinearMetric(),imgnet_activation, cremi_activation)\n",
    "    imgnet_v_cremi_min.append(np.amin(result))\n",
    "    imgnet_v_cremi_mean.append(np.mean(result))\n",
    "    imgnet_v_cremi_max.append(np.amax(result))"
   ]
  },
  {
   "cell_type": "code",
   "execution_count": 64,
   "id": "af410f92-16a1-4a12-9cbb-4e12117f4a60",
   "metadata": {},
   "outputs": [
    {
     "name": "stderr",
     "output_type": "stream",
     "text": [
      "100%|██████████| 256/256 [01:00<00:00,  4.25it/s]\n",
      "100%|██████████| 256/256 [00:59<00:00,  4.28it/s]\n",
      "100%|██████████| 256/256 [00:59<00:00,  4.27it/s]\n"
     ]
    }
   ],
   "source": [
    "cremi_v_imgnet_min = []\n",
    "cremi_v_imgnet_mean = []\n",
    "cremi_v_imgnet_max = []\n",
    "for imgnet_activation, cremi_activation in zip(imgnet_activations_cremi, cremi_activations):\n",
    "    result = conv_layers.convolve_metric(LinearMetric(),imgnet_activation, cremi_activation)\n",
    "    cremi_v_imgnet_min.append(np.amin(result))\n",
    "    cremi_v_imgnet_mean.append(np.mean(result))\n",
    "    cremi_v_imgnet_max.append(np.amax(result))"
   ]
  },
  {
   "cell_type": "code",
   "execution_count": 65,
   "id": "8df59b3f-6696-44ab-9329-da3f421e2e94",
   "metadata": {},
   "outputs": [
    {
     "name": "stdout",
     "output_type": "stream",
     "text": [
      "[1.4048665968523775, 1.4550877327037057, 1.4467351054608388]\n",
      "[1.479324295716234, 1.490385263602763, 1.4888547670726964]\n",
      "[1.499920884649462, 1.504419669046841, 1.5055985424108387]\n"
     ]
    }
   ],
   "source": [
    "print(imgnet_v_imgnet_min)\n",
    "print(imgnet_v_imgnet_mean)\n",
    "print(imgnet_v_imgnet_max)"
   ]
  },
  {
   "cell_type": "code",
   "execution_count": 66,
   "id": "2ef8c940-2b64-4060-8b45-d068282fa510",
   "metadata": {},
   "outputs": [
    {
     "name": "stdout",
     "output_type": "stream",
     "text": [
      "[1.4467754255903404, 1.4650655785783824, 1.4955244625549593]\n",
      "[1.4783987895164827, 1.4803583424222366, 1.5008225549105694]\n",
      "[1.4850814025999828, 1.4876234860216349, 1.5083764262637904]\n"
     ]
    }
   ],
   "source": [
    "print(cremi_v_cremi_min)\n",
    "print(cremi_v_cremi_mean)\n",
    "print(cremi_v_cremi_max)"
   ]
  },
  {
   "cell_type": "code",
   "execution_count": 68,
   "id": "aaf15613-72f1-4d7a-b6cf-3355596b62ca",
   "metadata": {},
   "outputs": [
    {
     "name": "stdout",
     "output_type": "stream",
     "text": [
      "[1.4969806265608934, 1.5193557718276594, 1.5247325885679097]\n",
      "[1.5049242537083458, 1.5218788034054684, 1.534120086371186]\n",
      "[1.509175213045093, 1.5238451455176178, 1.5403589917138467]\n"
     ]
    }
   ],
   "source": [
    "print(imgnet_v_cremi_min)\n",
    "print(imgnet_v_cremi_mean)\n",
    "print(imgnet_v_cremi_max)"
   ]
  },
  {
   "cell_type": "code",
   "execution_count": 69,
   "id": "c32c2bfd-90ec-4f6b-a3d0-2da47a5f3539",
   "metadata": {},
   "outputs": [
    {
     "name": "stdout",
     "output_type": "stream",
     "text": [
      "[1.4731419878541705, 1.4569082653352434, 1.4277181188909565]\n",
      "[1.5074731277217222, 1.5020463586269783, 1.4911981036462159]\n",
      "[1.5193214718756727, 1.5161352509229733, 1.5110305857247575]\n"
     ]
    }
   ],
   "source": [
    "print(cremi_v_imgnet_min)\n",
    "print(cremi_v_imgnet_mean)\n",
    "print(cremi_v_imgnet_max)"
   ]
  },
  {
   "cell_type": "code",
   "execution_count": null,
   "id": "b277883d-7c60-4a8b-8248-0239f2ec70e2",
   "metadata": {},
   "outputs": [],
   "source": []
  },
  {
   "cell_type": "code",
   "execution_count": 70,
   "id": "91b131c5-4eed-410b-889e-9d214ae9a217",
   "metadata": {},
   "outputs": [],
   "source": [
    "layer_index = []\n",
    "for layer in layer_names:\n",
    "    i=0\n",
    "    for model_layer in imgnet_resnet.layers:\n",
    "        if layer == model_layer.name:\n",
    "            layer_index.append(i)\n",
    "        i+=1"
   ]
  },
  {
   "cell_type": "code",
   "execution_count": 76,
   "id": "3bc1d6ce-1789-403b-a15a-70cd9209a37c",
   "metadata": {},
   "outputs": [
    {
     "data": {
      "text/plain": [
       "Text(0.5, 0.98, 'Min Similarities of Resnet152 Activations to Natural and Unnatural Images Trained on ImageNet vs CREMI')"
      ]
     },
     "execution_count": 76,
     "metadata": {},
     "output_type": "execute_result"
    },
    {
     "data": {
      "image/png": "[encoded data removed]",
      "text/plain": [
       "<Figure size 432x288 with 4 Axes>"
      ]
     },
     "metadata": {
      "needs_background": "light"
     },
     "output_type": "display_data"
    }
   ],
   "source": [
    "fig, axs = plt.subplots(2, 2)\n",
    "axs[0, 0].plot(layer_index, imgnet_v_imgnet_min)\n",
    "axs[0, 0].set_title('ImageNet vs ImageNet')\n",
    "axs[0, 1].plot(layer_index, cremi_v_cremi_min, 'tab:orange')\n",
    "axs[0, 1].set_title('CREMI vs CREMI')\n",
    "axs[1, 0].plot(layer_index, imgnet_v_cremi_min, 'tab:green')\n",
    "axs[1, 0].set_title('ImageNet vs CREMI')\n",
    "axs[1, 1].plot(layer_index, cremi_v_imgnet_min, 'tab:red')\n",
    "axs[1, 1].set_title('CREMI vs ImageNet')\n",
    "\n",
    "for ax in axs.flat:\n",
    "    ax.set(xlabel='layer depth', ylabel='similarity')\n",
    "\n",
    "# Hide x labels and tick labels for top plots and y ticks for right plots.\n",
    "for ax in axs.flat:\n",
    "    ax.label_outer()\n",
    "fig.suptitle(\"Min Similarities of Resnet152 Activations to Natural and Unnatural Images Trained on ImageNet vs CREMI\", fontsize=14)"
   ]
  },
  {
   "cell_type": "code",
   "execution_count": 77,
   "id": "069c5944-17b5-4c09-838c-6512b81a838d",
   "metadata": {},
   "outputs": [
    {
     "data": {
      "text/plain": [
       "Text(0.5, 0.98, 'Mean Similarities of Resnet152 Activations to Natural and Unnatural Images Trained on ImageNet vs CREMI')"
      ]
     },
     "execution_count": 77,
     "metadata": {},
     "output_type": "execute_result"
    },
    {
     "data": {
      "image/png": "[encoded data removed]",
      "text/plain": [
       "<Figure size 432x288 with 4 Axes>"
      ]
     },
     "metadata": {
      "needs_background": "light"
     },
     "output_type": "display_data"
    }
   ],
   "source": [
    "fig, axs = plt.subplots(2, 2)\n",
    "axs[0, 0].plot(layer_index, imgnet_v_imgnet_mean)\n",
    "axs[0, 0].set_title('ImageNet vs ImageNet')\n",
    "axs[0, 1].plot(layer_index, cremi_v_cremi_mean, 'tab:orange')\n",
    "axs[0, 1].set_title('CREMI vs CREMI')\n",
    "axs[1, 0].plot(layer_index, imgnet_v_cremi_mean, 'tab:green')\n",
    "axs[1, 0].set_title('ImageNet vs CREMI')\n",
    "axs[1, 1].plot(layer_index, cremi_v_imgnet_mean, 'tab:red')\n",
    "axs[1, 1].set_title('CREMI vs ImageNet')\n",
    "\n",
    "for ax in axs.flat:\n",
    "    ax.set(xlabel='layer depth', ylabel='similarity')\n",
    "\n",
    "# Hide x labels and tick labels for top plots and y ticks for right plots.\n",
    "for ax in axs.flat:\n",
    "    ax.label_outer()\n",
    "fig.suptitle(\"Mean Similarities of Resnet152 Activations to Natural and Unnatural Images Trained on ImageNet vs CREMI\", fontsize=14)"
   ]
  },
  {
   "cell_type": "code",
   "execution_count": 78,
   "id": "57c35019-f720-4eec-9469-f866bcebed7f",
   "metadata": {},
   "outputs": [
    {
     "data": {
      "text/plain": [
       "Text(0.5, 0.98, 'Max Similarities of Resnet152 Activations to Natural and Unnatural Images Trained on ImageNet vs CREMI')"
      ]
     },
     "execution_count": 78,
     "metadata": {},
     "output_type": "execute_result"
    },
    {
     "data": {
      "image/png": "[encoded data removed]",
      "text/plain": [
       "<Figure size 432x288 with 4 Axes>"
      ]
     },
     "metadata": {
      "needs_background": "light"
     },
     "output_type": "display_data"
    }
   ],
   "source": [
    "fig, axs = plt.subplots(2, 2)\n",
    "axs[0, 0].plot(layer_index, imgnet_v_imgnet_max)\n",
    "axs[0, 0].set_title('ImageNet vs ImageNet')\n",
    "axs[0, 1].plot(layer_index, cremi_v_cremi_max, 'tab:orange')\n",
    "axs[0, 1].set_title('CREMI vs CREMI')\n",
    "axs[1, 0].plot(layer_index, imgnet_v_cremi_max, 'tab:green')\n",
    "axs[1, 0].set_title('ImageNet vs CREMI')\n",
    "axs[1, 1].plot(layer_index, cremi_v_imgnet_max, 'tab:red')\n",
    "axs[1, 1].set_title('CREMI vs ImageNet')\n",
    "\n",
    "for ax in axs.flat:\n",
    "    ax.set(xlabel='layer depth', ylabel='similarity')\n",
    "\n",
    "# Hide x labels and tick labels for top plots and y ticks for right plots.\n",
    "for ax in axs.flat:\n",
    "    ax.label_outer()\n",
    "fig.suptitle(\"Max Similarities of Resnet152 Activations to Natural and Unnatural Images Trained on ImageNet vs CREMI\", fontsize=14)"
   ]
  },
  {
   "cell_type": "code",
   "execution_count": 21,
   "id": "7339d063-ef28-48f6-995e-671a5e6e2c73",
   "metadata": {},
   "outputs": [
    {
     "data": {
      "text/plain": [
       "Text(0.5, 1.0, 'ResNet-152 Model depth vs Min Distance on 100 activations from ImageNet')"
      ]
     },
     "execution_count": 21,
     "metadata": {},
     "output_type": "execute_result"
    },
    {
     "data": {
      "image/png": "[encoded data removed]",
      "text/plain": [
       "<Figure size 432x288 with 1 Axes>"
      ]
     },
     "metadata": {
      "needs_background": "light"
     },
     "output_type": "display_data"
    }
   ],
   "source": [
    "plt.scatter(layer_index,depth_vs_metrics_min)\n",
    "plt.xlabel(\"Model Depth\")\n",
    "plt.ylabel(\"Min Distance using Linear Metric\")\n",
    "plt.title(\"ResNet-152 Model depth vs Min Distance on 100 activations from ImageNet\")"
   ]
  },
  {
   "cell_type": "code",
   "execution_count": 23,
   "id": "16607359-f2f0-4878-9a7a-f6b238de24f7",
   "metadata": {},
   "outputs": [
    {
     "data": {
      "text/plain": [
       "Text(0.5, 1.0, 'ResNet-152 Model depth vs Average Distance on 100 activations from ImageNet')"
      ]
     },
     "execution_count": 23,
     "metadata": {},
     "output_type": "execute_result"
    },
    {
     "data": {
      "image/png": "[encoded data removed]",
      "text/plain": [
       "<Figure size 432x288 with 1 Axes>"
      ]
     },
     "metadata": {
      "needs_background": "light"
     },
     "output_type": "display_data"
    }
   ],
   "source": [
    "plt.scatter(layer_index,depth_vs_metric_avg)\n",
    "plt.xlabel(\"Model Depth\")\n",
    "plt.ylabel(\"Average Distance using Linear Metric\")\n",
    "plt.title(\"ResNet-152 Model depth vs Average Distance on 100 activations from ImageNet\")"
   ]
  },
  {
   "cell_type": "code",
   "execution_count": null,
   "id": "77df8df6-52a8-4eb2-bdb7-8d3efec1c829",
   "metadata": {},
   "outputs": [
    {
     "data": {
      "text/plain": [
       "Text(0.5, 1.0, 'ResNet-152 Model depth vs Max Distance on 100 activations from ImageNet')"
      ]
     },
     "execution_count": 24,
     "metadata": {},
     "output_type": "execute_result"
    },
    {
     "data": {
      "image/png": "[encoded data removed]",
      "text/plain": [
       "<Figure size 432x288 with 1 Axes>"
      ]
     },
     "metadata": {
      "needs_background": "light"
     },
     "output_type": "display_data"
    }
   ],
   "source": [
    "plt.scatter(layer_index,depth_vs_metric_max)\n",
    "plt.xlabel(\"Model Depth\")\n",
    "plt.ylabel(\"Average Distance using Linear Metric\")\n",
    "plt.title(\"ResNet-152 Model depth vs Max Distance on 100 activations from ImageNet\")"
   ]
  },
  {
   "cell_type": "markdown",
   "id": "e17d8302-d766-4cf1-9244-e0afe913a197",
   "metadata": {},
   "source": [
    "##### Untrained Activation"
   ]
  },
  {
   "cell_type": "code",
   "execution_count": 7,
   "id": "fce72755-342e-4a66-80ba-759bd0dfa921",
   "metadata": {},
   "outputs": [
    {
     "data": {
      "text/plain": [
       "TensorShape([1000, 16, 16, 1024])"
      ]
     },
     "execution_count": 7,
     "metadata": {},
     "output_type": "execute_result"
    }
   ],
   "source": [
    "untrained_resnet152 = tf.keras.applications.resnet.ResNet152(include_top=False, weights=None)\n",
    "untrained_activation_model = get_activation_model(model=untrained_resnet152,layer_name=\"conv4_block4_out\")\n",
    "untrained_activations = []\n",
    "for file in os.listdir(\"imagenet-sample-images\"):\n",
    "    if file.endswith(\".JPEG\"):\n",
    "        img = os.path.join(\"imagenet-sample-images\", file)\n",
    "        try:\n",
    "            activation = tf.squeeze(get_activation_tensor(activation_model=untrained_activation_model,stimuli_path=img))\n",
    "            untrained_activations.append(activation)\n",
    "        except ValueError:\n",
    "            print(f'shape doesnt match for {img}')\n",
    "untrained_activation = tf.stack(untrained_activations)\n",
    "untrained_activation.shape"
   ]
  },
  {
   "cell_type": "markdown",
   "id": "fce9cdfa-d9d5-4b78-8a27-c413165fc755",
   "metadata": {},
   "source": [
    "##### Linear Metric Comparison"
   ]
  },
  {
   "cell_type": "code",
   "execution_count": 8,
   "id": "bd396070-861e-46dd-bf0b-90b45979eeb8",
   "metadata": {},
   "outputs": [],
   "source": []
  },
  {
   "cell_type": "code",
   "execution_count": 9,
   "id": "5885edd4-b867-4e04-83b9-312a73e16d7c",
   "metadata": {},
   "outputs": [],
   "source": []
  },
  {
   "cell_type": "code",
   "execution_count": 10,
   "id": "c1230aeb-d619-4547-ae10-3db9930ffd92",
   "metadata": {},
   "outputs": [
    {
     "name": "stderr",
     "output_type": "stream",
     "text": [
      "100%|██████████| 256/256 [34:20<00:00,  8.05s/it]\n"
     ]
    }
   ],
   "source": [
    "try:\n",
    "    linear_result = conv_layers.convolve_metric(linear_metric, trained_activation, untrained_activation)\n",
    "except:\n",
    "    print(\"linear metric doesn't work\")"
   ]
  },
  {
   "cell_type": "code",
   "execution_count": 11,
   "id": "190af202-15a8-4320-b061-818aab25630e",
   "metadata": {},
   "outputs": [
    {
     "data": {
      "text/plain": [
       "<matplotlib.image.AxesImage at 0x7fa33c621a60>"
      ]
     },
     "execution_count": 11,
     "metadata": {},
     "output_type": "execute_result"
    },
    {
     "data": {
      "image/png": "[encoded data removed]",
      "text/plain": [
       "<Figure size 432x288 with 1 Axes>"
      ]
     },
     "metadata": {
      "needs_background": "light"
     },
     "output_type": "display_data"
    }
   ],
   "source": [
    "plt.imshow(linear_result)"
   ]
  },
  {
   "cell_type": "code",
   "execution_count": 12,
   "id": "f956670e-133c-4234-b32a-f6d7c4011971",
   "metadata": {},
   "outputs": [
    {
     "name": "stdout",
     "output_type": "stream",
     "text": [
      "Minimum Value for Linear Metric: 1.1924659133491418\n",
      "Average Value for Linear Metric: 1.4506568810640117\n",
      "Maximum Value for Linear Metric: 1.5024979223317558\n"
     ]
    }
   ],
   "source": [
    "print(f'Minimum Value for Linear Metric: {np.min(linear_result)}')\n",
    "print(f'Average Value for Linear Metric: {np.mean(linear_result)}')\n",
    "print(f'Maximum Value for Linear Metric: {np.max(linear_result)}')"
   ]
  },
  {
   "cell_type": "markdown",
   "id": "c4be4be3-f813-4912-ad6f-34358e5556b7",
   "metadata": {},
   "source": [
    "##### Permutation Metric"
   ]
  },
  {
   "cell_type": "code",
   "execution_count": 13,
   "id": "463d95e5-24c9-4ad5-9540-90ddc02035ad",
   "metadata": {},
   "outputs": [],
   "source": [
    "from netrep.metrics import PermutationMetric\n",
    "perm_metric = PermutationMetric()"
   ]
  },
  {
   "cell_type": "code",
   "execution_count": null,
   "id": "4c191cc9-782c-4450-b841-2baf2678e80e",
   "metadata": {},
   "outputs": [
    {
     "name": "stderr",
     "output_type": "stream",
     "text": [
      "  4%|▍         | 11/256 [02:15<50:25, 12.35s/it]"
     ]
    }
   ],
   "source": [
    "perm_result = conv_layers.convolve_metric(perm_metric,trained_activation, untrained_activation)"
   ]
  },
  {
   "cell_type": "code",
   "execution_count": null,
   "id": "838a1426-aa07-4449-a31b-70ef9e60a2cd",
   "metadata": {},
   "outputs": [],
   "source": [
    "plt.imshow(perm_result)"
   ]
  },
  {
   "cell_type": "code",
   "execution_count": null,
   "id": "d5940116-d381-4775-82be-ac4d3366d3c4",
   "metadata": {},
   "outputs": [],
   "source": [
    "print(f'Minimum Value for Permuation Metric: {np.min(perm_result)}')\n",
    "print(f'Average Value for Permutation Metric: {np.mean(perm_result)}')\n",
    "print(f'Maximum Value for Permuation Metric: {np.max(perm_result)}')"
   ]
  },
  {
   "cell_type": "markdown",
   "id": "a52fa84e-1bac-46d8-81a4-01e0aab5dfbd",
   "metadata": {},
   "source": []
  }
 ],
 "metadata": {
  "kernelspec": {
   "display_name": "Python 3 (ipykernel)",
   "language": "python",
   "name": "python3"
  },
  "language_info": {
   "codemirror_mode": {
    "name": "ipython",
    "version": 3
   },
   "file_extension": ".py",
   "mimetype": "text/x-python",
   "name": "python",
   "nbconvert_exporter": "python",
   "pygments_lexer": "ipython3",
   "version": "3.9.7"
  }
 },
 "nbformat": 4,
 "nbformat_minor": 5
}
