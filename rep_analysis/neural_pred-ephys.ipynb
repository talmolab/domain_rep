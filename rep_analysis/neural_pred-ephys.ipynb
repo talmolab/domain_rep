{
 "cells": [
  {
   "cell_type": "markdown",
   "id": "8c0e2c56-88e1-409f-9148-c1ef04b9522b",
   "metadata": {},
   "source": [
    "# Neural Predictivity"
   ]
  },
  {
   "cell_type": "markdown",
   "id": "2a687ef1-ae32-4f97-b116-cee33bec1fc0",
   "metadata": {},
   "source": [
    "## Setup"
   ]
  },
  {
   "cell_type": "markdown",
   "id": "6ce7dd18-7573-4287-a963-62ba2a7f2ce6",
   "metadata": {},
   "source": [
    "### Install Necessary Packages"
   ]
  },
  {
   "cell_type": "code",
   "execution_count": 1,
   "id": "8f7c44bf-1f9a-41a0-bdd2-14fb1d5acada",
   "metadata": {
    "tags": []
   },
   "outputs": [],
   "source": [
    "#pip install pytorch-lightning scikit-learn scipy lightly"
   ]
  },
  {
   "cell_type": "markdown",
   "id": "2bbd8ed3-feb0-4a45-8283-cabf158e58f7",
   "metadata": {},
   "source": [
    "### Import packages"
   ]
  },
  {
   "cell_type": "code",
   "execution_count": 2,
   "id": "2be946c6-8d10-4fc8-a3a2-0cf1e73cc5a1",
   "metadata": {
    "tags": []
   },
   "outputs": [],
   "source": [
    "import os\n",
    "import torchvision\n",
    "import PIL\n",
    "import lightly\n",
    "import torch\n",
    "import pytorch_lightning as pl\n",
    "import pandas as pd\n",
    "import numpy as np\n",
    "import scipy as sp\n",
    "import seaborn as sns\n",
    "import tqdm\n",
    "import warnings\n",
    "import logging\n",
    "import sklearn\n",
    "import h5py as hdf\n",
    "from matplotlib import pyplot as plt\n",
    "from torchvision.models import alexnet\n",
    "from lightly.models.modules.heads import SimCLRProjectionHead\n",
    "from lightly.loss import NTXentLoss\n",
    "from sklearn.model_selection import train_test_split\n",
    "from sklearn.cross_decomposition import PLSRegression"
   ]
  },
  {
   "cell_type": "code",
   "execution_count": 3,
   "id": "899f745b-fac2-4d58-9d62-56afa16a3ffc",
   "metadata": {},
   "outputs": [],
   "source": [
    "warnings.filterwarnings(\"ignore\", category=sklearn.exceptions.ConvergenceWarning)"
   ]
  },
  {
   "cell_type": "code",
   "execution_count": 4,
   "id": "cf4e6b41-09d1-4060-813e-6297ff0a1288",
   "metadata": {},
   "outputs": [],
   "source": [
    "formatter = logging.Formatter('%(asctime)s %(levelname)s %(message)s')\n",
    "def setup_logger(name, log_file, level=logging.INFO):\n",
    "    \"\"\"To setup as many loggers as you want\"\"\"\n",
    "\n",
    "    handler = logging.FileHandler(log_file)        \n",
    "    handler.setFormatter(formatter)\n",
    "\n",
    "    logger = logging.getLogger(name)\n",
    "    logger.setLevel(level)\n",
    "    logger.addHandler(handler)\n",
    "\n",
    "    return logger"
   ]
  },
  {
   "cell_type": "markdown",
   "id": "7b4f49c1-d2f3-4721-a1ce-1a2785275b1c",
   "metadata": {},
   "source": [
    "### Load Neural Data"
   ]
  },
  {
   "cell_type": "markdown",
   "id": "ddb56fdb-fd88-45de-97f0-7736508c6223",
   "metadata": {
    "tags": []
   },
   "source": [
    "### Load Stimuli"
   ]
  },
  {
   "cell_type": "code",
   "execution_count": 5,
   "id": "1bdd5766-79e7-4565-812f-023201051f92",
   "metadata": {
    "tags": []
   },
   "outputs": [],
   "source": [
    "class NaturalScenes(torch.utils.data.Dataset):\n",
    "    def __init__(self,file_path = 'DeepMouseTrap/neural_data/brain_observatory/stimulus_set.npy'):\n",
    "        self.ims = np.load(file_path)\n",
    "        self.size = 118\n",
    "        self.transform = torchvision.transforms.Compose([torchvision.transforms.Resize([256]),torchvision.transforms.CenterCrop(224),torchvision.transforms.Resize([64,64]),torchvision.transforms.ToTensor()])\n",
    "    def __len__(self):\n",
    "        return self.size\n",
    "    def __getitem__(self, index):\n",
    "        im = PIL.Image.fromarray(self.ims[index])\n",
    "        im = self.transform(im)\n",
    "        im = im.unsqueeze(0)\n",
    "        return im\n",
    "stimulus = NaturalScenes()\n",
    "train_stim,test_stim = torch.utils.data.random_split(stimulus,[int(118/2),int(118/2)])"
   ]
  },
  {
   "cell_type": "code",
   "execution_count": 6,
   "id": "1cddc99c-703c-4e5f-aad1-675462862443",
   "metadata": {},
   "outputs": [
    {
     "data": {
      "text/plain": [
       "Sequential(\n",
       "  (0): Conv2d(3, 64, kernel_size=(11, 11), stride=(4, 4), padding=(2, 2))\n",
       "  (1): ReLU(inplace=True)\n",
       "  (2): MaxPool2d(kernel_size=3, stride=2, padding=0, dilation=1, ceil_mode=False)\n",
       "  (3): Conv2d(64, 192, kernel_size=(5, 5), stride=(1, 1), padding=(2, 2))\n",
       "  (4): ReLU(inplace=True)\n",
       "  (5): MaxPool2d(kernel_size=3, stride=2, padding=0, dilation=1, ceil_mode=False)\n",
       "  (6): Conv2d(192, 384, kernel_size=(3, 3), stride=(1, 1), padding=(1, 1))\n",
       "  (7): ReLU(inplace=True)\n",
       "  (8): Conv2d(384, 256, kernel_size=(3, 3), stride=(1, 1), padding=(1, 1))\n",
       "  (9): ReLU(inplace=True)\n",
       "  (10): Conv2d(256, 256, kernel_size=(3, 3), stride=(1, 1), padding=(1, 1))\n",
       "  (11): ReLU(inplace=True)\n",
       "  (12): MaxPool2d(kernel_size=3, stride=2, padding=0, dilation=1, ceil_mode=False)\n",
       ")"
      ]
     },
     "execution_count": 6,
     "metadata": {},
     "output_type": "execute_result"
    },
    {
     "data": {
      "image/png": "[encoded data removed]",
      "text/plain": [
       "<Figure size 432x288 with 1 Axes>"
      ]
     },
     "metadata": {
      "needs_background": "light"
     },
     "output_type": "display_data"
    }
   ],
   "source": [
    "plt.imshow(torch.permute(torch.squeeze(stimulus[0]),(1,2,0)))\n",
    "model = alexnet(pretrained=False)\n",
    "model.features"
   ]
  },
  {
   "cell_type": "markdown",
   "id": "f29e451c-dc4e-4576-bcce-325ae737ad4b",
   "metadata": {},
   "source": [
    "### Define Necessary Functions"
   ]
  },
  {
   "cell_type": "code",
   "execution_count": 16,
   "id": "dce18bbb-a148-4402-a77d-392a7045cd0a",
   "metadata": {},
   "outputs": [],
   "source": [
    "def extract_model_response(model=alexnet(pretrained=False), stimulus = train_stim):\n",
    "    LAYER_MAPPING = {2:'conv1',5:'conv2',8:'conv3',10:'conv4',12:'conv5'}\n",
    "    model_activations = {layer:None for layer in LAYER_MAPPING.values()}\n",
    "    for ind,layer in LAYER_MAPPING.items():\n",
    "        activation_model=model[:ind] #get activation model at layer\n",
    "        activation_model.eval()\n",
    "        activations = []\n",
    "        for j in range(len(stimulus)):\n",
    "            activation = activation_model(stimulus[j]) #extract activations\n",
    "            activations.append(activation.detach().numpy().squeeze().flatten())\n",
    "        activations = np.stack(activations)\n",
    "        #print(activations.shape)\n",
    "        model_activations[layer]=activations\n",
    "    return model_activations\n",
    "\n",
    "def extract_neural_response(layer, ims=train_stim.indices): #,test_ims=test_stim.indices):\n",
    "    neural_responses = hdf.File('../datasets/VisualCoding/neuropixels/filtered_ephys.hdf5','r')\n",
    "    VIS_responses = neural_responses[layer]\n",
    "    per_specimen_response = {}\n",
    "    for specimen in VIS_responses.keys():\n",
    "        specimen_population = np.transpose(np.array(VIS_responses[specimen]),(1,0,2))#change to shape (num_ims,num_neurons,num_trials)\n",
    "        per_specimen_response[specimen] = specimen_population[ims]\n",
    "    return per_specimen_response\n",
    "\n",
    "def spearman_brown(pearson_r):\n",
    "    return (2*pearson_r)/(1+pearson_r)\n",
    "\n",
    "def split_half(train,test):\n",
    "    \n",
    "    #train1,train2,test1,test2 = train_test_split(np.transpose(train,(2,0,1)), np.transpose(test,(2,0,1)),test_size=0.5) #split by trials\n",
    "    \n",
    "    train1 = np.transpose(train,(2,0,1))[np.arange(0,50,2)]\n",
    "    train1 = np.mean(np.transpose(train1,(1,2,0)),axis=-1) \n",
    "    train2 = np.transpose(train,(2,0,1))[np.arange(1,50,2)]\n",
    "    train2 = np.mean(np.transpose(train2,(1,2,0)),axis=-1)\n",
    "    test1 = np.transpose(test,(2,0,1))[np.arange(0,50,2)]\n",
    "    test1 = np.mean(np.transpose(test1,(1,2,0)),axis=-1)\n",
    "    test2 = np.transpose(test,(2,0,1))[np.arange(1,50,2)]\n",
    "    test2 = np.mean(np.transpose(test2,(1,2,0)),axis=-1)\n",
    "    return (train1,train2), (test1,test2)\n",
    "\n",
    "def inter_animal_consistency(model_activations_train, model_activations_test, specimen_response_train,specimen_response_test):\n",
    "    \n",
    "    # specimen_response_train_halves,specimen_response_test_halves = split_half(specimen_response_train,specimen_response_test)\n",
    "    # specimen_response_train1,specimen_response_train2 = specimen_response_train_halves\n",
    "    # specimen_response_test1,specimen_response_test2 = specimen_response_test_halves\n",
    "    pls1 = PLSRegression(n_components=25)\n",
    "    \n",
    "    \n",
    "    pls1.fit(model_activations_train,np.mean(specimen_response_train,axis=-1))\n",
    "    predictions1 = pls1.predict(model_activations_test) #M(r^l_train,s^1_train)_test\n",
    "    r,p = sp.stats.pearsonr(predictions1.flatten(),np.mean(specimen_response_test,axis=-1).flatten()) #Corr(M_1,s_2)\n",
    "     \n",
    "#     pls2 = PLSRegression(n_components=25)\n",
    "#     pls2.fit(model_activations_train,specimen_response_train2)\n",
    "#     predictions2 = pls2.predict(model_activations_test) #M(r_1^train,s^2_train)_test\n",
    "    \n",
    "#     mapping_r,mapping_p = sp.stats.pearsonr(predictions1.flatten(),predictions2.flatten())\n",
    "#     mapping_sbr = spearman_brown(mapping_r)#Spearman Corr(M(r_l,s_1),M(r_1,s_2))\n",
    "#     response_r,response_p = sp.stats.pearsonr(specimen_response_test1.flatten(),specimen_response_test2.flatten())\n",
    "#     response_sbr = spearman_brown(response_r) #Spearman Corr(S_1,S_2)\n",
    "#     denominator = np.sqrt(mapping_sbr * response_sbr)\n",
    "    return r#/denominator\n",
    "    \n",
    "def layer_predictivity(layer_activations_train,layer_activations_test,vis_layer):\n",
    "    specimen_response_train = extract_neural_response(vis_layer, train_stim.indices)\n",
    "    specimen_response_test = extract_neural_response(vis_layer, test_stim.indices)\n",
    "    inter_animal_consistencies = {specimen:None for specimen in specimen_response_train.keys()}\n",
    "    for specimen in specimen_response_train.keys():\n",
    "        inter_animal_consistencies[specimen] = inter_animal_consistency(layer_activations_train, layer_activations_test, specimen_response_train[specimen], specimen_response_test[specimen])\n",
    "    return np.median(list(inter_animal_consistencies.values()))\n",
    "\n",
    "def model_predictivity(model, vis_layer):\n",
    "    model_activations_train = extract_model_response(model, train_stim)\n",
    "    model_activations_test = extract_model_response(model, test_stim)\n",
    "    layer_wise_predictivity = {layer:None for layer in model_activations_train.keys()}\n",
    "    for layer in model_activations_train.keys():\n",
    "        layer_activations_train = model_activations_train[layer]\n",
    "        layer_activations_test = model_activations_test[layer]\n",
    "        layer_wise_predictivity[layer] = layer_predictivity(layer_activations_train, layer_activations_test,vis_layer)\n",
    "    return layer_wise_predictivity    "
   ]
  },
  {
   "cell_type": "code",
   "execution_count": 17,
   "id": "8b52b83d-01bb-415e-84fa-ae8ea706892e",
   "metadata": {
    "tags": []
   },
   "outputs": [
    {
     "name": "stdout",
     "output_type": "stream",
     "text": [
      "[[False False False ... False False False]\n",
      " [False False  True ... False False False]\n",
      " [False False False ... False False  True]\n",
      " ...\n",
      " [False False False ... False False False]\n",
      " [False False False ... False False False]\n",
      " [False False False ... False False False]]\n"
     ]
    }
   ],
   "source": [
    "visp_responses_train = extract_neural_response('VISp')['732592105']\n",
    "visp_responses_test = extract_neural_response('VISp',test_stim.indices)['732592105']\n",
    "visp_responses_train,visp_responses_test=split_half(visp_responses_train,visp_responses_test)\n",
    "visp_responses_train1,visp_responses_train2 = visp_responses_train\n",
    "print(visp_responses_train[1]==visp_responses_test[0])"
   ]
  },
  {
   "cell_type": "markdown",
   "id": "4543710b-54b1-4779-b03c-bf91a662b657",
   "metadata": {
    "tags": []
   },
   "source": [
    "### Load Model"
   ]
  },
  {
   "cell_type": "code",
   "execution_count": 18,
   "id": "c4ee401d-7558-4e8d-a111-a08b40660f86",
   "metadata": {
    "tags": []
   },
   "outputs": [],
   "source": [
    "class SimCLRModel(pl.LightningModule):\n",
    "    def __init__(self):\n",
    "        super().__init__()\n",
    "\n",
    "        AlexNet = alexnet()\n",
    "        self.backbone = torch.nn.Sequential(*list(AlexNet.children())[:-1])\n",
    "        #print(self.backbone)\n",
    "        hidden_dim = 9216\n",
    "        self.projection_head = SimCLRProjectionHead(hidden_dim, hidden_dim, 128)\n",
    "\n",
    "        self.criterion = NTXentLoss(temperature=0.1)\n",
    "\n",
    "    def forward(self, x):\n",
    "        h= self.backbone(x).flatten(start_dim=1)\n",
    "        z = self.projection_head(h)\n",
    "        return z\n",
    "\n",
    "    def training_step(self, batch, batch_idx):\n",
    "        (x0, x1), _, _ = batch\n",
    "        z0 = self.forward(x0)\n",
    "        z1 = self.forward(x1)\n",
    "        loss = self.criterion(z0, z1)\n",
    "        self.log(\"train_loss_ssl\", loss)\n",
    "        return loss\n",
    "\n",
    "    def configure_optimizers(self):\n",
    "        optim = LARS(params=self.parameters(),lr=1e-2,momentum=0.9,weight_decay=1e-6)\n",
    "        #scheduler = LinearWarmupCosineAnnealingLR(optimizer = optim,warmup_epochs=10,max_epochs=200)\n",
    "        return [optim]#, [scheduler]\n",
    "    \n",
    "    def train_dataloader(self):\n",
    "        collate_fn = lightly.data.SimCLRCollateFunction(input_size=64,gaussian_blur=0.0)\n",
    "        return DataLoader(\n",
    "                        lightly.data.LightlyDataset('../datasets/ImageNet64/train/'),\n",
    "                        batch_size=512,\n",
    "                        shuffle=True,\n",
    "                        collate_fn=collate_fn,\n",
    "                        drop_last=True,\n",
    "                        num_workers=8,\n",
    "                        pin_memory=False\n",
    "                    )"
   ]
  },
  {
   "cell_type": "markdown",
   "id": "72af4849-8525-4cfa-b5de-b688d02b175c",
   "metadata": {
    "tags": []
   },
   "source": [
    "## Calculate Neural Predictivities"
   ]
  },
  {
   "cell_type": "markdown",
   "id": "6dcd00de-e9b1-4e39-a180-a550bb08e05f",
   "metadata": {
    "tags": []
   },
   "source": [
    "### Contrastive"
   ]
  },
  {
   "cell_type": "code",
   "execution_count": 19,
   "id": "81cefbdf-731b-4acc-8434-d0b57b0522ab",
   "metadata": {
    "tags": []
   },
   "outputs": [
    {
     "name": "stdout",
     "output_type": "stream",
     "text": [
      "[40, 83, 58, 67, 12, 20, 36, 51, 3, 76, 15, 49, 104, 106, 62, 89, 44, 64, 69, 55, 109, 53, 28, 105, 97, 27, 80, 93, 63, 47, 14, 54, 103, 92, 95, 18, 90, 43, 11, 70, 68, 72, 46, 0, 33, 112, 82, 10, 59, 16, 84, 77, 19, 42, 86, 75, 50, 94, 8]\n",
      "[26, 116, 107, 48, 71, 23, 57, 79, 88, 38, 60, 1, 5, 98, 100, 81, 115, 111, 102, 91, 31, 30, 17, 99, 24, 32, 37, 74, 41, 85, 114, 52, 117, 13, 25, 22, 35, 2, 78, 65, 108, 7, 21, 66, 61, 9, 96, 34, 113, 4, 110, 87, 56, 39, 101, 45, 73, 6, 29]\n"
     ]
    }
   ],
   "source": [
    "train_stim,test_stim = torch.utils.data.random_split(stimulus,[int(118/2),int(118/2)])\n",
    "print(train_stim.indices)\n",
    "print(test_stim.indices)\n",
    "test_model_contrastive = SimCLRModel().load_from_checkpoint('rep_data/temp/checkpoints/epoch199.ckpt')\n",
    "neural_predictivities_contrastive = {'VISp':{'conv1':[],'conv2':[],'conv3':[],'conv4':[],'conv5':[]},\n",
    "                                     'VISl':{'conv1':[],'conv2':[],'conv3':[],'conv4':[],'conv5':[]},\n",
    "                                     'VISal':{'conv1':[],'conv2':[],'conv3':[],'conv4':[],'conv5':[]},\n",
    "                                     'VISam':{'conv1':[],'conv2':[],'conv3':[],'conv4':[],'conv5':[]},\n",
    "                                     'VISpm':{'conv1':[],'conv2':[],'conv3':[],'conv4':[],'conv5':[]},\n",
    "                                     'VISrl':{'conv1':[],'conv2':[],'conv3':[],'conv4':[],'conv5':[]}\n",
    "                                    }\n",
    "#test_model.backbone[0]"
   ]
  },
  {
   "cell_type": "code",
   "execution_count": 20,
   "id": "2c08fe14-4345-4e6b-96b5-5012360da7fc",
   "metadata": {
    "tags": []
   },
   "outputs": [
    {
     "name": "stdout",
     "output_type": "stream",
     "text": [
      "0\n",
      "VISp\n",
      "conv1:0.859129874339944\n",
      "conv2:0.8586700419416269\n",
      "conv3:0.8726293957366353\n",
      "conv4:0.8370685385231931\n",
      "conv5:0.8181620972103643\n",
      "VISl\n",
      "conv1:0.8187319677003999\n",
      "conv2:0.8132528962382397\n",
      "conv3:0.8247253184656207\n",
      "conv4:0.8024443973181343\n",
      "conv5:0.766073693398821\n",
      "VISal\n",
      "conv1:0.8678767228433149\n",
      "conv2:0.8647639381976078\n",
      "conv3:0.8711336728412087\n",
      "conv4:0.8523520705203194\n",
      "conv5:0.8238764383262693\n",
      "VISam\n",
      "conv1:0.8839452729657544\n",
      "conv2:0.86736699262945\n",
      "conv3:0.880633715135509\n",
      "conv4:0.8552789848179434\n",
      "conv5:0.8302920079551941\n",
      "VISpm\n",
      "conv1:0.8337727008490114\n",
      "conv2:0.830244773093591\n",
      "conv3:0.8283742291098889\n",
      "conv4:0.8024343513350567\n",
      "conv5:0.7589063649985386\n",
      "VISrl\n",
      "conv1:0.8727287035862326\n",
      "conv2:0.8388377158002701\n",
      "conv3:0.8561636571765627\n",
      "conv4:0.8074255156232514\n",
      "conv5:0.7749638644720026\n"
     ]
    }
   ],
   "source": [
    "for i in range(1):\n",
    "    if i <=1:\n",
    "        print(i)\n",
    "    train_stim,test_stim = torch.utils.data.random_split(stimulus,[int(118/2),int(118/2)])\n",
    "    for layer,predictivities in neural_predictivities_contrastive.items():\n",
    "        if i <=1:\n",
    "            print(layer)\n",
    "        model_predictivities = model_predictivity(test_model_contrastive.backbone[0],layer)\n",
    "        for l,p in model_predictivities.items():\n",
    "            if i <= 1:\n",
    "                print(f'{l}:{p}')\n",
    "            predictivities[l].append(p)"
   ]
  },
  {
   "cell_type": "code",
   "execution_count": null,
   "id": "00727dec-8cf2-4255-b3fc-99ac47a2b871",
   "metadata": {},
   "outputs": [],
   "source": [
    "for l,p in neural_predictivities_contrastive.items():\n",
    "    neural_predictivities_contrastive[l] = pd.DataFrame.from_dict(p)"
   ]
  },
  {
   "cell_type": "code",
   "execution_count": null,
   "id": "f665f57d-9714-474a-aea3-44775982f548",
   "metadata": {
    "tags": []
   },
   "outputs": [],
   "source": [
    "# neural_predictivities_visl = model_predictivity(test_model.backbone[0],'VISl')"
   ]
  },
  {
   "cell_type": "code",
   "execution_count": null,
   "id": "8e622b0d-22c9-4ec5-9d6f-5ad6789eee5d",
   "metadata": {
    "tags": []
   },
   "outputs": [],
   "source": [
    "# neural_predictivities_visal = model_predictivity(test_model.backbone[0], 'VISal')"
   ]
  },
  {
   "cell_type": "code",
   "execution_count": null,
   "id": "7e2fd1dc-8671-4fd2-9574-b3dc82ff4fcc",
   "metadata": {
    "tags": []
   },
   "outputs": [],
   "source": [
    "# neural_predictivities_visam = model_predictivity(test_model.backbone[0], 'VISam')"
   ]
  },
  {
   "cell_type": "code",
   "execution_count": null,
   "id": "54663557-c50a-4e36-957e-810c8e694cb9",
   "metadata": {
    "tags": []
   },
   "outputs": [],
   "source": [
    "# neural_predictivities_vispm = model_predictivity(test_model.backbone[0],'VISpm')"
   ]
  },
  {
   "cell_type": "code",
   "execution_count": null,
   "id": "4509c021-83b6-4e22-8d1a-7c7ac0751b4c",
   "metadata": {
    "tags": []
   },
   "outputs": [],
   "source": [
    "# neural_predictivities_visrl = model_predictivity(test_model.backbone[0],'VISrl')"
   ]
  },
  {
   "cell_type": "code",
   "execution_count": null,
   "id": "5ff1d4a2-530e-48c2-8223-ba447aa707f5",
   "metadata": {
    "tags": []
   },
   "outputs": [],
   "source": [
    "fig = plt.figure(facecolor=\"white\",figsize=(10,10))\n",
    "fig.subplots_adjust(hspace=0.3, wspace=0.3)\n",
    "ax = fig.add_subplot(3, 2, 1)\n",
    "sns.pointplot(data=neural_predictivities_contrastive['VISp'],ax=ax).set(title='VISP')\n",
    "ax = fig.add_subplot(3, 2, 2)\n",
    "sns.pointplot(data=neural_predictivities_contrastive['VISl'],ax=ax).set(title='VISl')\n",
    "ax = fig.add_subplot(3, 2, 3)\n",
    "sns.pointplot(data=neural_predictivities_contrastive['VISal'],ax=ax).set(title='VISal')\n",
    "ax = fig.add_subplot(3, 2, 4)\n",
    "sns.pointplot(data=neural_predictivities_contrastive['VISam'],ax=ax).set(title='VISam')\n",
    "ax = fig.add_subplot(3, 2, 5)\n",
    "sns.pointplot(data=neural_predictivities_contrastive['VISpm'],ax=ax).set(title='VISPm')\n",
    "ax = fig.add_subplot(3, 2, 6)\n",
    "sns.pointplot(data=neural_predictivities_contrastive['VISrl'],ax=ax).set(title='VISrl')\n",
    "fig.suptitle(\"Neural Predictivity of Constrastive AlexNet Trained on ImageNet64\")\n",
    "fig.text(0.5, 0.04, 'Layer Depth', ha='center')\n",
    "fig.text(0.04, 0.5, 'Neural Predictivity', va='center', rotation='vertical')"
   ]
  },
  {
   "cell_type": "markdown",
   "id": "59dc8412-103c-40e0-aa32-ec72c64fa95b",
   "metadata": {
    "tags": []
   },
   "source": [
    "### Supervised"
   ]
  },
  {
   "cell_type": "code",
   "execution_count": null,
   "id": "0756c081-fa6c-4037-a20d-725b7a86ce39",
   "metadata": {
    "tags": []
   },
   "outputs": [],
   "source": [
    "train_stim,test_stim = torch.utils.data.random_split(stimulus,[int(118/2),int(118/2)])\n",
    "test_model_supervised = alexnet(pretrained=True)\n",
    "neural_predictivities_supervised = {'VISp':{'conv1':[],'conv2':[],'conv3':[],'conv4':[],'conv5':[]},\n",
    "                                     'VISl':{'conv1':[],'conv2':[],'conv3':[],'conv4':[],'conv5':[]},\n",
    "                                     'VISal':{'conv1':[],'conv2':[],'conv3':[],'conv4':[],'conv5':[]},\n",
    "                                     'VISam':{'conv1':[],'conv2':[],'conv3':[],'conv4':[],'conv5':[]},\n",
    "                                     'VISpm':{'conv1':[],'conv2':[],'conv3':[],'conv4':[],'conv5':[]},\n",
    "                                     'VISrl':{'conv1':[],'conv2':[],'conv3':[],'conv4':[],'conv5':[]}\n",
    "                                    }"
   ]
  },
  {
   "cell_type": "code",
   "execution_count": null,
   "id": "d7857be0-78b1-4a8b-969b-932428c5319d",
   "metadata": {
    "tags": []
   },
   "outputs": [],
   "source": [
    "for i in range(1):\n",
    "    print(i)\n",
    "    train_stim,test_stim = torch.utils.data.random_split(stimulus,[int(118/2),int(118/2)])\n",
    "    for layer,predictivities in neural_predictivities_supervised.items():\n",
    "        if i <=1:\n",
    "            print(layer)\n",
    "        model_predictivities = model_predictivity(test_model_supervised.features,layer)\n",
    "        for l,p in model_predictivities.items():\n",
    "            if i <= 1:\n",
    "                print(f'{l}:{p}')\n",
    "            predictivities[l].append(p)"
   ]
  },
  {
   "cell_type": "code",
   "execution_count": null,
   "id": "8de44222-f89f-4187-a8f8-213704e50d60",
   "metadata": {},
   "outputs": [],
   "source": [
    "for l,p in neural_predictivities_supervised.items():\n",
    "    neural_predictivities_supervised[l] = pd.DataFrame.from_dict(p)"
   ]
  },
  {
   "cell_type": "code",
   "execution_count": null,
   "id": "2e963a02-4ea2-4d3b-8fa4-afa44197bfbb",
   "metadata": {
    "tags": []
   },
   "outputs": [],
   "source": [
    "# neural_predictivities_visl_supervised = model_predictivity(test_model_supervised.features,'VISl')\n",
    "# neural_predictivities_visl_supervised_df = pd.DataFrame.from_dict(neural_predictivities_visl_supervised.items(),orient='columns')"
   ]
  },
  {
   "cell_type": "code",
   "execution_count": null,
   "id": "add43300-f756-483f-998f-2fe11196fa63",
   "metadata": {},
   "outputs": [],
   "source": [
    "neural_predictivities_supervised['VISp']"
   ]
  },
  {
   "cell_type": "code",
   "execution_count": null,
   "id": "ae90980d-c964-403e-9a2c-c8798b7c1e9c",
   "metadata": {},
   "outputs": [],
   "source": [
    "pd.DataFrame(neural_predictivities_supervised['VISp'][1])"
   ]
  },
  {
   "cell_type": "code",
   "execution_count": null,
   "id": "2221a5a3-7e78-4458-99f5-4c9fa34e4391",
   "metadata": {
    "tags": []
   },
   "outputs": [],
   "source": [
    "# neural_predictivities_visal_supervised = model_predictivity(test_model_supervised.features, 'VISal')\n",
    "# neural_predictivities_visal_supervised_df = pd.DataFrame.from_dict(neural_predictivities_visal_supervised.items(),orient='columns')"
   ]
  },
  {
   "cell_type": "code",
   "execution_count": null,
   "id": "310aa3e7-66ff-4d1d-9a3b-c8fad8f52fe3",
   "metadata": {
    "tags": []
   },
   "outputs": [],
   "source": [
    "# neural_predictivities_visam_supervised = model_predictivity(test_model_supervised.features, 'VISam')\n",
    "# neural_predictivities_visam_supervised_df = pd.DataFrame.from_dict(neural_predictivities_visam_supervised.items(),orient='columns')"
   ]
  },
  {
   "cell_type": "code",
   "execution_count": null,
   "id": "990b46d7-545c-4f9f-af7d-9d61235282dc",
   "metadata": {
    "tags": []
   },
   "outputs": [],
   "source": [
    "# neural_predictivities_vispm_supervised = model_predictivity(test_model_supervised.features,'VISpm')\n",
    "# neural_predictivities_vispm_supervised_df = pd.DataFrame.from_dict(neural_predictivities_vispm_supervised.items(),orient='columns')"
   ]
  },
  {
   "cell_type": "code",
   "execution_count": null,
   "id": "d54aabb9-095d-47d2-8594-f3f0630cb55e",
   "metadata": {
    "tags": []
   },
   "outputs": [],
   "source": [
    "# neural_predictivities_vispm_supervised_df = pd.DataFrame.from_dict(neural_predictivities_vispm_supervised.items(),orient='columns')"
   ]
  },
  {
   "cell_type": "code",
   "execution_count": null,
   "id": "4b54933a-c134-48b3-9fe7-a1ac54368c64",
   "metadata": {
    "tags": []
   },
   "outputs": [],
   "source": [
    "# neural_predictivities_visrl_supervised = model_predictivity(test_model_supervised.features,'VISrl')\n",
    "# neural_predictivities_visrl_supervised_df = pd.DataFrame.from_dict(neural_predictivities_visrl_supervised.items(),orient='columns')"
   ]
  },
  {
   "cell_type": "code",
   "execution_count": null,
   "id": "f7f2aa68-a618-4251-9043-043a9b61f537",
   "metadata": {},
   "outputs": [],
   "source": [
    "# neural_predictivities_visrl_supervised_df"
   ]
  },
  {
   "cell_type": "code",
   "execution_count": null,
   "id": "b0167bbc-d599-46b0-ab64-9968a69081cb",
   "metadata": {
    "tags": []
   },
   "outputs": [],
   "source": [
    "neural_predictivities_supervised"
   ]
  },
  {
   "cell_type": "code",
   "execution_count": null,
   "id": "34d27219-c98c-42a0-b6a7-6329be8533b9",
   "metadata": {
    "tags": []
   },
   "outputs": [],
   "source": [
    "fig = plt.figure(facecolor=\"white\",figsize=(10,10))\n",
    "fig.subplots_adjust(hspace=0.3, wspace=0.3)\n",
    "ax = fig.add_subplot(3, 2, 1)\n",
    "sns.pointplot(data=neural_predictivities_supervised['VISp']).set(title='VISP')\n",
    "ax = fig.add_subplot(3, 2, 2)\n",
    "sns.pointplot(data=neural_predictivities_supervised['VISl'],ax=ax).set(title='VISl')\n",
    "ax = fig.add_subplot(3, 2, 3)\n",
    "sns.pointplot(data=neural_predictivities_supervised['VISal'],ax=ax).set(title='VISal')\n",
    "ax = fig.add_subplot(3, 2, 4)\n",
    "sns.pointplot(data=neural_predictivities_supervised['VISam'],ax=ax).set(title='VISam')\n",
    "ax = fig.add_subplot(3, 2, 5)\n",
    "sns.pointplot(data=neural_predictivities_supervised['VISpm'],ax=ax).set(title='VISPm')\n",
    "ax = fig.add_subplot(3, 2, 6)\n",
    "sns.pointplot(data=neural_predictivities_supervised['VISrl'],ax=ax).set(title='VISrl')\n",
    "fig.suptitle(\"Neural Predictivity of Supervised AlexNet Trained on ImageNet\")\n",
    "fig.text(0.5, 0.04, 'Layer Depth', ha='center')\n",
    "fig.text(0.04, 0.5, 'Neural Predictivity', va='center', rotation='vertical')"
   ]
  },
  {
   "cell_type": "code",
   "execution_count": null,
   "id": "f856f4ae-94c5-4be2-a15d-56ec57573c04",
   "metadata": {},
   "outputs": [],
   "source": [
    "\n",
    "neural_predictivities = {layer:pd.concat([neural_predictivities_contrastive[layer].assign(objective='contrastive'),neural_predictivities_supervised[layer].assign(objective='supervised')]) for layer in neural_predictivities_contrastive.keys()}"
   ]
  },
  {
   "cell_type": "code",
   "execution_count": null,
   "id": "049f3794-75c0-4ab9-b13a-43603f13f43f",
   "metadata": {},
   "outputs": [],
   "source": [
    " pd.DataFrame.melt(neural_predictivities['VISp'],'objective')"
   ]
  },
  {
   "cell_type": "markdown",
   "id": "e74da0af-2d77-4d1d-a5a1-197d7b22008b",
   "metadata": {
    "tags": [],
    "toc-hr-collapsed": true
   },
   "source": [
    "### Untrained"
   ]
  },
  {
   "cell_type": "markdown",
   "id": "3432fa13-3965-4afa-8a2e-a7de1aa448eb",
   "metadata": {
    "tags": []
   },
   "source": [
    "#### Calculate VISP Neural Predictivity"
   ]
  },
  {
   "cell_type": "code",
   "execution_count": null,
   "id": "54b60705-2ebd-4e15-9012-1849cf68c56a",
   "metadata": {
    "tags": []
   },
   "outputs": [],
   "source": [
    "stimulus = NaturalScenes()\n",
    "test_model_untrained = alexnet(pretrained = False)\n",
    "neural_predictivities_untrained = {'VISp':{'conv1':[],'conv2':[],'conv3':[],'conv4':[],'conv5':[]},\n",
    "                                     'VISl':{'conv1':[],'conv2':[],'conv3':[],'conv4':[],'conv5':[]},\n",
    "                                     'VISal':{'conv1':[],'conv2':[],'conv3':[],'conv4':[],'conv5':[]},\n",
    "                                     'VISam':{'conv1':[],'conv2':[],'conv3':[],'conv4':[],'conv5':[]},\n",
    "                                     'VISpm':{'conv1':[],'conv2':[],'conv3':[],'conv4':[],'conv5':[]},\n",
    "                                     'VISrl':{'conv1':[],'conv2':[],'conv3':[],'conv4':[],'conv5':[]}\n",
    "                                    }"
   ]
  },
  {
   "cell_type": "code",
   "execution_count": null,
   "id": "134db6c1-0cd8-48f7-be9f-d252b552dd9e",
   "metadata": {
    "tags": []
   },
   "outputs": [],
   "source": [
    "for i in range(1):\n",
    "    print(i)\n",
    "    train_stim,test_stim = torch.utils.data.random_split(stimulus,[int(118/2),int(118/2)])\n",
    "    for layer,predictivities in neural_predictivities_untrained.items():\n",
    "        if i <=1:\n",
    "            print(layer)\n",
    "        model_predictivities = model_predictivity(test_model_untrained.features,layer)\n",
    "        for l,p in model_predictivities.items():\n",
    "            if i <= 1:\n",
    "                print(f'{l}:{p}')\n",
    "            predictivities[l].append(p)"
   ]
  },
  {
   "cell_type": "code",
   "execution_count": null,
   "id": "74f72a21-d894-4ac6-87b1-2040efa0a594",
   "metadata": {},
   "outputs": [],
   "source": [
    "for l,p in neural_predictivities_untrained.items():\n",
    "    neural_predictivities_untrained[l] = pd.DataFrame.from_dict(p)"
   ]
  },
  {
   "cell_type": "code",
   "execution_count": null,
   "id": "156d1c2b-2d16-46e2-b005-13f9bcaec02e",
   "metadata": {},
   "outputs": [],
   "source": [
    "neural_predictivities_untrained"
   ]
  },
  {
   "cell_type": "markdown",
   "id": "ca3f2236-39f6-42dc-bef1-d478e4721854",
   "metadata": {
    "tags": []
   },
   "source": [
    "#### Graph"
   ]
  },
  {
   "cell_type": "code",
   "execution_count": null,
   "id": "00590575-1dd2-4ea0-86c1-105716e2c2e2",
   "metadata": {
    "tags": []
   },
   "outputs": [],
   "source": [
    "fig = plt.figure(facecolor=\"white\",figsize=(10,10))\n",
    "fig.subplots_adjust(hspace=0.3, wspace=0.3)\n",
    "ax = fig.add_subplot(3, 2, 1)\n",
    "sns.pointplot(data=neural_predictivities_untrained['VISp'],ax=ax).set(title='VISp')\n",
    "ax = fig.add_subplot(3, 2, 2)\n",
    "sns.pointplot(data=neural_predictivities_untrained['VISl'],ax=ax).set(title='VISl')\n",
    "ax = fig.add_subplot(3, 2, 3)\n",
    "sns.pointplot(data=neural_predictivities_untrained['VISal'],ax=ax).set(title='VISal')\n",
    "ax = fig.add_subplot(3, 2, 4)\n",
    "sns.pointplot(data=neural_predictivities_untrained['VISam'],ax=ax).set(title='VISam')\n",
    "ax = fig.add_subplot(3, 2, 5)\n",
    "sns.pointplot(data=neural_predictivities_untrained['VISam'],ax=ax).set(title='VISPm')\n",
    "ax = fig.add_subplot(3, 2, 6)\n",
    "sns.pointplot(data=neural_predictivities_untrained['VISrl'],ax=ax).set(title='VISrl')\n",
    "fig.suptitle(\"Neural Predictivity of Untrained AlexNet\")\n",
    "fig.text(0.5, 0.04, 'Layer Depth', ha='center')\n",
    "fig.text(0.04, 0.5, 'Neural Predictivity', va='center', rotation='vertical')"
   ]
  },
  {
   "cell_type": "code",
   "execution_count": null,
   "id": "03434667-f6b1-4a4e-a885-05c7ec20289c",
   "metadata": {},
   "outputs": [],
   "source": [
    "neural_predictivities = {layer:pd.concat([neural_predictivities_contrastive[layer].assign(objective='contrastive'),neural_predictivities_supervised[layer].assign(objective='supervised'), neural_predictivities_untrained[layer].assign(objective='untrained')]) for layer in neural_predictivities_contrastive.keys()}"
   ]
  },
  {
   "cell_type": "code",
   "execution_count": null,
   "id": "511a2b71-1ec0-4db5-9ea0-d4089e8cf72f",
   "metadata": {},
   "outputs": [],
   "source": [
    "fig = plt.figure(facecolor=\"white\",figsize=(10,10))\n",
    "fig.subplots_adjust(hspace=0.5, wspace=0.3)\n",
    "ax = fig.add_subplot(3, 2, 1)\n",
    "sns.pointplot(data=pd.melt(neural_predictivities['VISp'],id_vars='objective',var_name='Layer Depth',value_name='Neural Predictivity'),x='Layer Depth',y='Neural Predictivity',hue='objective').set(title='VISP')\n",
    "ax = fig.add_subplot(3, 2, 2)\n",
    "sns.pointplot(data=pd.melt(neural_predictivities['VISl'],id_vars='objective',var_name='Layer Depth',value_name='Neural Predictivity'),x='Layer Depth',y='Neural Predictivity',hue='objective').set(title='VISl')\n",
    "ax = fig.add_subplot(3, 2, 3)\n",
    "sns.pointplot(data=pd.melt(neural_predictivities['VISal'],id_vars='objective',var_name='Layer Depth',value_name='Neural Predictivity'),x='Layer Depth',y='Neural Predictivity',hue='objective').set(title='VISal')\n",
    "ax = fig.add_subplot(3, 2, 4)\n",
    "sns.pointplot(data=pd.melt(neural_predictivities['VISam'],id_vars='objective',var_name='Layer Depth',value_name='Neural Predictivity'),x='Layer Depth',y='Neural Predictivity',hue='objective').set(title='VISam')\n",
    "ax = fig.add_subplot(3, 2, 5)\n",
    "sns.pointplot(data=pd.melt(neural_predictivities['VISpm'],id_vars='objective',var_name='Layer Depth',value_name='Neural Predictivity'),x='Layer Depth',y='Neural Predictivity',hue='objective').set(title='VISpm')\n",
    "ax = fig.add_subplot(3, 2, 6)\n",
    "sns.pointplot(data=pd.melt(neural_predictivities['VISrl'],id_vars='objective',var_name='Layer Depth',value_name='Neural Predictivity'),x='Layer Depth',y='Neural Predictivity',hue='objective').set(title='VISrl')\n",
    "fig.suptitle(\"Neural Predictivity of AlexNet Trained on ImageNet\")\n",
    "# fig.text(0.5, 0.04, 'Layer Depth', ha='center')\n",
    "# fig.text(0.04, 0.5, 'Neural Predictivity', va='center', rotation='vertical')"
   ]
  },
  {
   "cell_type": "code",
   "execution_count": null,
   "id": "bd66a65d-8b11-4726-a178-30e9490d327c",
   "metadata": {},
   "outputs": [],
   "source": [
    "domain_preds = {'sketch':None,'infograph':None,'clipart':None,'quickdraw':None,'paint':None,'real':None}\n",
    "logger = setup_logger('domain_preds', 'domains2.log', level=logging.INFO)\n",
    "try:\n",
    "    for domain in tqdm.notebook.tqdm(domain_preds.keys(),desc='Domains'):\n",
    "        logger.info(f'Running experiment for {domain}') \n",
    "        stimulus = NaturalScenes()\n",
    "        test_model_domain = SimCLRModel().load_from_checkpoint(f'rep_data/{domain}2/checkpoints/last.ckpt')\n",
    "        neural_predictivities_domain = {'VISp':{f'conv{i}':[] for i in range(1, 6)},\n",
    "                                        'VISl':{f'conv{i}':[] for i in range(1, 6)},\n",
    "                                        'VISal':{f'conv{i}':[] for i in range(1, 6)},\n",
    "                                        'VISam':{f'conv{i}':[] for i in range(1, 6)},\n",
    "                                        'VISpm':{f'conv{i}':[] for i in range(1, 6)},\n",
    "                                        'VISrl':{f'conv{i}':[] for i in range(1, 6)}\n",
    "                                        }\n",
    "        for i in tqdm.notebook.tqdm(range(100),desc=\"Iteration\"):\n",
    "            train_stim,test_stim = torch.utils.data.random_split(stimulus,[int(118/2),int(118/2)])\n",
    "            for layer,predictivities in neural_predictivities_domain.items():\n",
    "                model_predictivities = model_predictivity(test_model_domain.backbone[0],layer)\n",
    "                for l,p in model_predictivities.items():\n",
    "                    predictivities[l].append(p)\n",
    "        logger.info(f'Experiment Complete. Results per Layer:')\n",
    "        neural_predictivities_domain = {vis_layer:pd.DataFrame.from_dict(results) for vis_layer,results in neural_predictivities_domain.items()}\n",
    "        for l,p in neural_predictivities_domain.items():\n",
    "            logger.info(f'{l}')\n",
    "            logger.info(f'{p.describe()}')\n",
    "        domain_preds[domain]=neural_predictivities_domain\n",
    "except Exception as e:\n",
    "    logger.error(e)"
   ]
  },
  {
   "cell_type": "code",
   "execution_count": null,
   "id": "824db64a-cdf2-4a05-bd9a-8ce1667715de",
   "metadata": {},
   "outputs": [],
   "source": [
    "neural_preds_domain = {vis_layer:pd.concat([domain_preds[domain][vis_layer].assign(Domain=domain) for domain in domain_preds.keys()] + [neural_predictivities_contrastive[vis_layer].assign(Domain='ImageNet'), neural_predictivities_untrained[vis_layer].assign(Domain='Untrained')]) for vis_layer in domain_preds[domain].keys()}"
   ]
  },
  {
   "cell_type": "code",
   "execution_count": null,
   "id": "2e8f5e82-412d-42bb-a0d6-59ba2b72e9b6",
   "metadata": {},
   "outputs": [],
   "source": [
    "neural_preds_domain['VISp']"
   ]
  },
  {
   "cell_type": "code",
   "execution_count": null,
   "id": "9ba9fde6-954d-4d59-8063-5b99487ff6fa",
   "metadata": {},
   "outputs": [],
   "source": [
    "fig,axs = plt.subplots(3,2,figsize=(10,10))\n",
    "#fig.subplots_adjust(hspace=0.3, wspace=0.1)\n",
    "plot = sns.pointplot(data=pd.melt(neural_preds_domain['VISp'],id_vars='Domain',var_name='Layer Depth',value_name='Neural Predictivity'),\n",
    "                     x='Layer Depth',\n",
    "                     y='Neural Predictivity',\n",
    "                     hue='Domain',\n",
    "                     legend = False,\n",
    "                     ax=axs[0,0])\n",
    "plot.set(title='VISp',xlabel=None,ylabel=None)\n",
    "plot.get_legend().remove()\n",
    "plot = sns.pointplot(data=pd.melt(neural_preds_domain['VISl'],id_vars='Domain',var_name='Layer Depth',value_name='Neural Predictivity'),\n",
    "                     x='Layer Depth',\n",
    "                     y='Neural Predictivity',\n",
    "                     hue='Domain',legend = False,\n",
    "                     ax=axs[0,1])\n",
    "plot.set(title='VISl',xlabel=None,ylabel=None)\n",
    "plot.get_legend().remove()\n",
    "plot = sns.pointplot(data=pd.melt(neural_preds_domain['VISal'],id_vars='Domain',var_name='Layer Depth',value_name='Neural Predictivity'),\n",
    "                     x='Layer Depth',\n",
    "                     y='Neural Predictivity',\n",
    "                     hue='Domain',\n",
    "                     legend = False,\n",
    "                     ax=axs[1,0])\n",
    "plot.set(title='VISal',xlabel=None,ylabel=None)\n",
    "plot.get_legend().remove()\n",
    "plot = sns.pointplot(data=pd.melt(neural_preds_domain['VISam'],id_vars='Domain',var_name='Layer Depth',value_name='Neural Predictivity'),\n",
    "                     x='Layer Depth',\n",
    "                     y='Neural Predictivity',\n",
    "                     hue='Domain',\n",
    "                     legend = False,\n",
    "                     ax=axs[1,1])\n",
    "plot.set(title='VISam',xlabel=None,ylabel=None)\n",
    "plot.get_legend().remove()\n",
    "plot = sns.pointplot(data=pd.melt(neural_preds_domain['VISpm'],id_vars='Domain',var_name='Layer Depth',value_name='Neural Predictivity'),\n",
    "                     x='Layer Depth',\n",
    "                     y='Neural Predictivity',\n",
    "                     hue='Domain',\n",
    "                     legend = False,\n",
    "                     ax=axs[2,0])\n",
    "plot.set(title='VISpm',xlabel=None,ylabel=None)\n",
    "plot.get_legend().remove()\n",
    "plot = sns.pointplot(data=pd.melt(neural_preds_domain['VISrl'],id_vars='Domain',var_name='Layer Depth',value_name='Neural Predictivity'),\n",
    "                     x='Layer Depth',\n",
    "                     y='Neural Predictivity',\n",
    "                     hue='Domain',\n",
    "                     legend = False,\n",
    "                     ax=axs[2,1])\n",
    "plot.set(title='VISrl',xlabel=None,ylabel=None)\n",
    "plot.get_legend().remove()\n",
    "fig.suptitle(\"Neural Predictivity of AlexNet Trained on various Domains\")\n",
    "fig.supxlabel('Layer Depth')\n",
    "fig.supylabel('Neural Predictivity')\n",
    "fig.tight_layout()\n",
    "# labels_handles = {\n",
    "#   label: handle for ax in fig.axes for handle, label in zip(*ax.get_legend_handles_labels())\n",
    "# }\n",
    "lines_labels = [ax.get_legend_handles_labels() for ax in fig.axes]\n",
    "lines, labels = [sum(lol, []) for lol in zip(*lines_labels)]\n",
    "\n",
    "# finally we invoke the legend (that you probably would like to customize...)\n",
    "\n",
    "fig.legend(lines[:8], labels[:8],loc='upper right',bbox_to_anchor=(1.15,1),title='Domains')\n",
    "plt.show()"
   ]
  },
  {
   "cell_type": "code",
   "execution_count": null,
   "id": "7f958150-271f-4f32-8cbe-72771ad60531",
   "metadata": {},
   "outputs": [],
   "source": []
  },
  {
   "cell_type": "code",
   "execution_count": null,
   "id": "bd157d5f-23c7-4496-845b-d88d14c8e31a",
   "metadata": {},
   "outputs": [],
   "source": [
    "neural_preds_domain_df = pd.concat([df.assign(vis_layer=visual_layer) for visual_layer,df in neural_preds_domain.items()])\n",
    "neural_preds_domain_df"
   ]
  },
  {
   "cell_type": "code",
   "execution_count": null,
   "id": "d11e190d-79bc-4fa9-b4cb-dbb57ccc648e",
   "metadata": {},
   "outputs": [],
   "source": [
    "fig,axs = plt.subplots(3,2,figsize=(17,10))\n",
    "fig.subplots_adjust(hspace=0.3, wspace=0.1)\n",
    "plot = sns.boxenplot(data=pd.melt(neural_preds_domain['VISp'],id_vars='Domain',var_name='Layer Depth',value_name='Neural Predictivity'),\n",
    "                   x='Domain',\n",
    "                   y='Neural Predictivity',\n",
    "                   ax=axs[0,0],\n",
    "                   order=[\"ImageNet\", \"real\", \"paint\", \"clipart\", \"sketch\", \"quickdraw\", \"infograph\", \"Untrained\"])\n",
    "# plot = sns.stripplot(data=pd.melt(neural_preds_domain['VISp'],id_vars='Domain',var_name='Layer Depth',value_name='Neural Predictivity'),\n",
    "#                    x='Domain',\n",
    "#                    y='Neural Predictivity',\n",
    "#                    ax=axs[0,0],\n",
    "#                    order=[\"ImageNet\", \"real\", \"paint\", \"clipart\", \"sketch\", \"quickdraw\", \"infograph\", \"Untrained\"], \n",
    "#                    color = 'black',\n",
    "#                    alpha = 0.1)\n",
    "plot.set(title='VISp',xlabel=None,ylabel=None)\n",
    "plot = sns.boxenplot(data=pd.melt(neural_preds_domain['VISl'],id_vars='Domain',var_name='Layer Depth',value_name='Neural Predictivity'),\n",
    "                   x='Domain',\n",
    "                   y='Neural Predictivity',\n",
    "                   ax=axs[0,1],\n",
    "                   order=[\"ImageNet\", \"real\", \"paint\", \"clipart\", \"sketch\", \"quickdraw\", \"infograph\", \"Untrained\"])\n",
    "# plot = sns.stripplot(data=pd.melt(neural_preds_domain['VISl'],id_vars='Domain',var_name='Layer Depth',value_name='Neural Predictivity'),\n",
    "#                    x='Domain',\n",
    "#                    y='Neural Predictivity',\n",
    "#                    ax=axs[0,1],\n",
    "#                    order=[\"ImageNet\", \"real\", \"paint\", \"clipart\", \"sketch\", \"quickdraw\", \"infograph\", \"Untrained\"],\n",
    "#                    color = 'black',\n",
    "#                    alpha = 0.1)\n",
    "plot.set(title='VISl',xlabel=None,ylabel=None)\n",
    "plot = sns.boxenplot(data=pd.melt(neural_preds_domain['VISal'],id_vars='Domain',var_name='Layer Depth',value_name='Neural Predictivity'),\n",
    "                   x='Domain',\n",
    "                   y='Neural Predictivity',\n",
    "                   ax=axs[1,0],\n",
    "                   order=[\"ImageNet\", \"real\", \"paint\", \"clipart\", \"sketch\", \"quickdraw\", \"infograph\", \"Untrained\"])\n",
    "# plot = sns.stripplot(data=pd.melt(neural_preds_domain['VISal'],id_vars='Domain',var_name='Layer Depth',value_name='Neural Predictivity'),\n",
    "#                    x='Domain',\n",
    "#                    y='Neural Predictivity',\n",
    "#                    ax=axs[1,0],\n",
    "#                    order=[\"ImageNet\", \"real\", \"paint\", \"clipart\", \"sketch\", \"quickdraw\", \"infograph\", \"Untrained\"],\n",
    "#                    color = 'black',\n",
    "#                    alpha = 0.1)\n",
    "plot.set(title='VISal',xlabel=None,ylabel=None)\n",
    "plot = sns.boxenplot(data=pd.melt(neural_preds_domain['VISam'],id_vars='Domain',var_name='Layer Depth',value_name='Neural Predictivity'),\n",
    "                   x='Domain',\n",
    "                   y='Neural Predictivity',\n",
    "                   ax=axs[1,1],\n",
    "                   order=[\"ImageNet\", \"real\", \"paint\", \"clipart\", \"sketch\", \"quickdraw\", \"infograph\", \"Untrained\"])\n",
    "# plot = sns.stripplot(data=pd.melt(neural_preds_domain['VISam'],id_vars='Domain',var_name='Layer Depth',value_name='Neural Predictivity'),\n",
    "#                    x='Domain',\n",
    "#                    y='Neural Predictivity',\n",
    "#                    ax=axs[1,1],\n",
    "#                    order=[\"ImageNet\", \"real\", \"paint\", \"clipart\", \"sketch\", \"quickdraw\", \"infograph\", \"Untrained\"],\n",
    "#                    color = 'black',\n",
    "#                    alpha = 0.1)\n",
    "plot.set(title='VISam',xlabel=None,ylabel=None)\n",
    "plot = sns.boxenplot(data=pd.melt(neural_preds_domain['VISpm'],id_vars='Domain',var_name='Layer Depth',value_name='Neural Predictivity'),\n",
    "                   x='Domain',\n",
    "                   y='Neural Predictivity',\n",
    "                   ax=axs[2,0],\n",
    "                   order=[\"ImageNet\", \"real\", \"paint\", \"clipart\", \"sketch\", \"quickdraw\", \"infograph\", \"Untrained\"])\n",
    "# plot = sns.stripplot(data=pd.melt(neural_preds_domain['VISpm'],id_vars='Domain',var_name='Layer Depth',value_name='Neural Predictivity'),\n",
    "#                    x='Domain',\n",
    "#                    y='Neural Predictivity',\n",
    "#                    ax=axs[2,0],\n",
    "#                    order=[\"ImageNet\", \"real\", \"paint\", \"clipart\", \"sketch\", \"quickdraw\", \"infograph\", \"Untrained\"],\n",
    "#                    color = 'black',\n",
    "#                    alpha = 0.1)\n",
    "plot.set(title='VISpm',xlabel=None,ylabel=None)\n",
    "plot = sns.boxenplot(data=pd.melt(neural_preds_domain['VISrl'],id_vars='Domain',var_name='Layer Depth',value_name='Neural Predictivity'),\n",
    "                   x='Domain',\n",
    "                   y='Neural Predictivity',\n",
    "                   ax=axs[2,1],\n",
    "                   order=[\"real\", \"paint\", \"clipart\", \"sketch\", \"quickdraw\", \"infograph\"])\n",
    "# plot = sns.stripplot(data=pd.melt(neural_preds_domain['VISrl'],id_vars='Domain',var_name='Layer Depth',value_name='Neural Predictivity'),\n",
    "#                    x='Domain',\n",
    "#                    y='Neural Predictivity',\n",
    "#                    ax=axs[2,1],\n",
    "#                    order=[\"ImageNet\", \"real\", \"paint\", \"clipart\", \"sketch\", \"quickdraw\", \"infograph\", \"Untrained\"],\n",
    "#                    color = 'black',\n",
    "#                    alpha = 0.1)\n",
    "plot.set(title='VISrl',xlabel=None,ylabel=None)\n",
    "fig.suptitle(\"Neural Predictivity of AlexNet Trained on various Domains\")\n",
    "fig.supxlabel('Domain')\n",
    "fig.supylabel('Neural Predictivity')\n",
    "# labels_handles = {\n",
    "#   label: handle for ax in fig.axes for handle, label in zip(*ax.get_legend_handles_labels())\n",
    "# }\n",
    "# handles, labels = ax.get_legend_handles_labels()\n",
    "fig.tight_layout()\n",
    "# fig.legend(handles,labels,)"
   ]
  },
  {
   "cell_type": "code",
   "execution_count": null,
   "id": "1cdcf521-15bf-459a-9d8d-0374a5717be9",
   "metadata": {},
   "outputs": [],
   "source": [
    "melted = pd.melt(neural_preds_domain_df,id_vars=['Domain','vis_layer'],var_name='layer_depth',value_name='Neural Predictivity')\n",
    "sns.set(rc = {'figure.figsize':(10,10)})\n",
    "plot = sns.boxenplot(data=melted,\n",
    "                   x='Domain',\n",
    "                   y='Neural Predictivity',\n",
    "                   order=[\"ImageNet\",\"real\", \"paint\", \"clipart\", \"sketch\", \"quickdraw\", \"infograph\",\"Untrained\"])\n",
    "# plot = sns.stripplot(data=melted,\n",
    "#                    x='Domain',\n",
    "#                    y='Neural Predictivity',\n",
    "#                    order=[\"ImageNet\", \"real\", \"paint\", \"clipart\", \"sketch\", \"quickdraw\", \"infograph\", \"Untrained\"],\n",
    "#                    color='black',\n",
    "#                    alpha=0.1)\n",
    "plot.set(title='Neural Predictivity of Contrastive AlexNet Trained on Various Domains')"
   ]
  },
  {
   "cell_type": "code",
   "execution_count": null,
   "id": "ccd0708b-3f8d-4d2c-a678-d2c3686ccfe1",
   "metadata": {},
   "outputs": [],
   "source": [
    "train_loss_ssl=[]\n",
    "for domain in ['clipart','infograph2','paint','quickdraw2','sketch2','real','temp']:\n",
    "        checkpoint = torch.load(f'rep_data/{domain}/checkpoints/last.ckpt',map_location=torch.device('cpu'))\n",
    "        train_loss_ssl.append(list(checkpoint['callbacks'].values())[0]['current_score'].item())"
   ]
  },
  {
   "cell_type": "code",
   "execution_count": null,
   "id": "531144f6-5dbc-4fe5-b22e-8a6c0231d1ca",
   "metadata": {},
   "outputs": [],
   "source": [
    "loss2median = {}\n",
    "for domain,cp in zip(['clipart','infograph','paint','quickdraw','sketch','real','ImageNet'],['clipart','infograph2','paint','quickdraw2','sketch2','real','temp']):\n",
    "    checkpoint = torch.load(f'rep_data/{cp}/checkpoints/last.ckpt',map_location=torch.device('cpu'))\n",
    "    loss = list(checkpoint['callbacks'].values())[0]['current_score'].item()\n",
    "    median = np.nanmedian(melted[melted['Domain']==domain]['Neural Predictivity'])\n",
    "    loss2median[loss] = median\n",
    "sns.scatterplot(x=loss2median.keys(),y=loss2median.values())\n",
    "for domain, items in zip(['clipart','infograph','paint','quickdraw','sketch','real','ImageNet'],loss2median.items()):\n",
    "    loss,pred = items\n",
    "    plt.text(loss+0.01, pred+0.001, domain)"
   ]
  },
  {
   "cell_type": "code",
   "execution_count": null,
   "id": "96782825-dc03-4790-84ba-9523f8560359",
   "metadata": {},
   "outputs": [],
   "source": [
    "extract_neural_response('VISp')[0][222420].shape"
   ]
  },
  {
   "cell_type": "markdown",
   "id": "e808f249-718e-4257-8ce0-fc5dce4ee53a",
   "metadata": {
    "tags": [],
    "toc-hr-collapsed": true
   },
   "source": [
    "## Experimental"
   ]
  }
 ],
 "metadata": {
  "kernelspec": {
   "display_name": "python37",
   "language": "python",
   "name": "python37"
  },
  "language_info": {
   "codemirror_mode": {
    "name": "ipython",
    "version": 3
   },
   "file_extension": ".py",
   "mimetype": "text/x-python",
   "name": "python",
   "nbconvert_exporter": "python",
   "pygments_lexer": "ipython3",
   "version": "3.7.12"
  }
 },
 "nbformat": 4,
 "nbformat_minor": 5
}
