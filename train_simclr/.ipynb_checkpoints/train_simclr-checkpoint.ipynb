{
 "cells": [
  {
   "cell_type": "markdown",
   "id": "dd492f9c",
   "metadata": {},
   "source": [
    "# Get Data"
   ]
  },
  {
   "cell_type": "code",
   "execution_count": 1,
   "id": "715afe47",
   "metadata": {
    "tags": []
   },
   "outputs": [],
   "source": [
    "#!pip install torch==1.10.1+cu113 torchvision==0.11.2+cu113 torchaudio==0.10.1+cu113 -f https://download.pytorch.org/whl/cu113/torch_stable.html"
   ]
  },
  {
   "cell_type": "code",
   "execution_count": 2,
   "id": "f377db3c",
   "metadata": {
    "tags": []
   },
   "outputs": [],
   "source": [
    "#!pip install Pillow pytorch-lightning lightning-bolts lightly matplotlib wandb"
   ]
  },
  {
   "cell_type": "code",
   "execution_count": 3,
   "id": "ae502e5e",
   "metadata": {},
   "outputs": [],
   "source": [
    "import os\n",
    "import pandas as pd\n",
    "import torch\n",
    "import torchvision\n",
    "import numpy as np\n",
    "import PIL\n",
    "from PIL import Image\n",
    "from lars import LARS\n",
    "from torch.utils.data import DataLoader\n",
    "from torch.utils.data import Dataset\n",
    "from torchvision.models import alexnet\n",
    "import pytorch_lightning as pl\n",
    "from pl_bolts.models.self_supervised.simclr.transforms import (\n",
    "    SimCLREvalDataTransform, SimCLRTrainDataTransform)\n",
    "from pl_bolts.optimizers import LARS\n",
    "from pl_bolts.optimizers.lr_scheduler import LinearWarmupCosineAnnealingLR\n",
    "from pytorch_lightning.loggers import WandbLogger\n",
    "import lightly\n",
    "from lightly.models.modules.heads import SimCLRProjectionHead\n",
    "from lightly.loss import NTXentLoss\n",
    "from matplotlib import pyplot as plt\n",
    "imagenet_train_path='../datasets/ImageNet/train'\n",
    "imagenet_val_path = '../datasets/ImageNet/val'"
   ]
  },
  {
   "cell_type": "code",
   "execution_count": 4,
   "id": "cb2309a8",
   "metadata": {},
   "outputs": [],
   "source": [
    "device = torch.device(\"cuda\" if torch.cuda.is_available() else \"cpu\")\n",
    "wandb_logger = WandbLogger(project=\"NIS\")"
   ]
  },
  {
   "cell_type": "code",
   "execution_count": 5,
   "id": "58d4ebfc",
   "metadata": {},
   "outputs": [
    {
     "name": "stdout",
     "output_type": "stream",
     "text": [
      "cuda\n",
      "2\n"
     ]
    }
   ],
   "source": [
    "print(device)\n",
    "print(torch.cuda.device_count())"
   ]
  },
  {
   "cell_type": "code",
   "execution_count": 6,
   "id": "c7d0dff1",
   "metadata": {},
   "outputs": [
    {
     "data": {
      "text/html": [
       "<div>\n",
       "<style scoped>\n",
       "    .dataframe tbody tr th:only-of-type {\n",
       "        vertical-align: middle;\n",
       "    }\n",
       "\n",
       "    .dataframe tbody tr th {\n",
       "        vertical-align: top;\n",
       "    }\n",
       "\n",
       "    .dataframe thead th {\n",
       "        text-align: right;\n",
       "    }\n",
       "</style>\n",
       "<table border=\"1\" class=\"dataframe\">\n",
       "  <thead>\n",
       "    <tr style=\"text-align: right;\">\n",
       "      <th></th>\n",
       "      <th>ID</th>\n",
       "      <th>LABEL</th>\n",
       "      <th>OBJECT</th>\n",
       "    </tr>\n",
       "  </thead>\n",
       "  <tbody>\n",
       "    <tr>\n",
       "      <th>0</th>\n",
       "      <td>n02119789</td>\n",
       "      <td>1</td>\n",
       "      <td>kit_fox</td>\n",
       "    </tr>\n",
       "    <tr>\n",
       "      <th>1</th>\n",
       "      <td>n02100735</td>\n",
       "      <td>2</td>\n",
       "      <td>English_setter</td>\n",
       "    </tr>\n",
       "    <tr>\n",
       "      <th>2</th>\n",
       "      <td>n02110185</td>\n",
       "      <td>3</td>\n",
       "      <td>Siberian_husky</td>\n",
       "    </tr>\n",
       "    <tr>\n",
       "      <th>3</th>\n",
       "      <td>n02096294</td>\n",
       "      <td>4</td>\n",
       "      <td>Australian_terrier</td>\n",
       "    </tr>\n",
       "    <tr>\n",
       "      <th>4</th>\n",
       "      <td>n02102040</td>\n",
       "      <td>5</td>\n",
       "      <td>English_springer</td>\n",
       "    </tr>\n",
       "  </tbody>\n",
       "</table>\n",
       "</div>"
      ],
      "text/plain": [
       "          ID  LABEL              OBJECT\n",
       "0  n02119789      1             kit_fox\n",
       "1  n02100735      2      English_setter\n",
       "2  n02110185      3      Siberian_husky\n",
       "3  n02096294      4  Australian_terrier\n",
       "4  n02102040      5    English_springer"
      ]
     },
     "execution_count": 6,
     "metadata": {},
     "output_type": "execute_result"
    }
   ],
   "source": [
    "labels = pd.read_csv('../datasets/ImageNet/map_clsloc.txt', sep = ' ', names= ['ID', 'LABEL', 'OBJECT'])\n",
    "labels.head()"
   ]
  },
  {
   "cell_type": "code",
   "execution_count": 7,
   "id": "8e06ef90",
   "metadata": {},
   "outputs": [
    {
     "data": {
      "text/plain": [
       "<matplotlib.image.AxesImage at 0x7f0843bb41d0>"
      ]
     },
     "execution_count": 7,
     "metadata": {},
     "output_type": "execute_result"
    },
    {
     "data": {
      "image/png": "[encoded data removed]",
      "text/plain": [
       "<Figure size 432x288 with 1 Axes>"
      ]
     },
     "metadata": {
      "needs_background": "light"
     },
     "output_type": "display_data"
    }
   ],
   "source": [
    "im = torchvision.io.read_image('../datasets/ImageNet64/train/train_data_batch_1/abacus_547_100388.JPEG')\n",
    "plt.imshow(im.permute(1,2,0))"
   ]
  },
  {
   "cell_type": "code",
   "execution_count": 8,
   "id": "f7fa1be8",
   "metadata": {},
   "outputs": [],
   "source": [
    "# train_data = lightly.data.LightlyDataset('../datasets/ImageNet64/train/')"
   ]
  },
  {
   "cell_type": "code",
   "execution_count": 9,
   "id": "14665154",
   "metadata": {},
   "outputs": [
    {
     "name": "stdout",
     "output_type": "stream",
     "text": [
      "40036\n"
     ]
    }
   ],
   "source": [
    "collate_fn = lightly.data.SimCLRCollateFunction(\n",
    "    input_size=64,\n",
    "    vf_prob=0.5,\n",
    "    rr_prob=0.5\n",
    ")\n",
    "# dataloader_train_simclr = DataLoader(\n",
    "#     train_data,\n",
    "#     batch_size=32,\n",
    "#     shuffle=True,\n",
    "#     collate_fn=collate_fn,\n",
    "#     drop_last=True,\n",
    "#     num_workers=8,\n",
    "#     pin_memory=False\n",
    "# )\n",
    "# print(len(dataloader_train_simclr))"
   ]
  },
  {
   "cell_type": "code",
   "execution_count": 10,
   "id": "ddac4a87",
   "metadata": {},
   "outputs": [
    {
     "data": {
      "text/plain": [
       "<lightly.data.dataset.LightlyDataset at 0x7f0832b131d0>"
      ]
     },
     "execution_count": 10,
     "metadata": {},
     "output_type": "execute_result"
    }
   ],
   "source": [
    "# train_data"
   ]
  },
  {
   "cell_type": "code",
   "execution_count": 11,
   "id": "e1b5e660-1a17-4bab-9aec-17ee24340fa3",
   "metadata": {},
   "outputs": [
    {
     "ename": "FileNotFoundError",
     "evalue": "[Errno 2] No such file or directory: 'log.txt'",
     "output_type": "error",
     "traceback": [
      "\u001b[0;31m---------------------------------------------------------------------------\u001b[0m",
      "\u001b[0;31mFileNotFoundError\u001b[0m                         Traceback (most recent call last)",
      "\u001b[0;32m/tmp/ipykernel_115986/3500471230.py\u001b[0m in \u001b[0;36m<module>\u001b[0;34m\u001b[0m\n\u001b[0;32m----> 1\u001b[0;31m \u001b[0mwriter\u001b[0m \u001b[0;34m=\u001b[0m \u001b[0mopen\u001b[0m\u001b[0;34m(\u001b[0m\u001b[0;34m'log.txt'\u001b[0m\u001b[0;34m)\u001b[0m\u001b[0;34m\u001b[0m\u001b[0;34m\u001b[0m\u001b[0m\n\u001b[0m\u001b[1;32m      2\u001b[0m \u001b[0mwriter\u001b[0m\u001b[0;34m.\u001b[0m\u001b[0mwrite\u001b[0m\u001b[0;34m(\u001b[0m\u001b[0;34m'data loaded'\u001b[0m\u001b[0;34m)\u001b[0m\u001b[0;34m\u001b[0m\u001b[0;34m\u001b[0m\u001b[0m\n",
      "\u001b[0;31mFileNotFoundError\u001b[0m: [Errno 2] No such file or directory: 'log.txt'"
     ]
    }
   ],
   "source": [
    "# writer = open('log.txt')\n",
    "# writer.write('data loaded')"
   ]
  },
  {
   "cell_type": "markdown",
   "id": "9b476015",
   "metadata": {},
   "source": [
    "# Define Model"
   ]
  },
  {
   "cell_type": "code",
   "execution_count": 12,
   "id": "3775050c",
   "metadata": {},
   "outputs": [],
   "source": [
    "class SimCLRModel(pl.LightningModule):\n",
    "    def __init__(self):\n",
    "        super().__init__()\n",
    "\n",
    "        AlexNet = alexnet()\n",
    "        self.backbone = torch.nn.Sequential(*list(AlexNet.children())[:-1])\n",
    "        print(self.backbone)\n",
    "        hidden_dim = 9216\n",
    "        self.projection_head = SimCLRProjectionHead(hidden_dim, hidden_dim, 128)\n",
    "\n",
    "        self.criterion = NTXentLoss()\n",
    "\n",
    "    def forward(self, x):\n",
    "        h=self.backbone(x).flatten(start_dim=1)\n",
    "        z = self.projection_head(h)\n",
    "        return z\n",
    "\n",
    "    def training_step(self, batch, batch_idx):\n",
    "        (x0, x1), _, _ = batch\n",
    "        z0 = self.forward(x0)\n",
    "        z1 = self.forward(x1)\n",
    "        loss = self.criterion(z0, z1)\n",
    "        self.log(\"train_loss_ssl\", loss)\n",
    "        return loss\n",
    "\n",
    "    def configure_optimizers(self):\n",
    "        optim = torch.optim.Adam(params=self.parameters())\n",
    "        scheduler = torch.optim.lr_scheduler.CosineAnnealingLR(\n",
    "            optim, 200, eta_min = 0\n",
    "        )\n",
    "        return [optim], [scheduler]\n",
    "    \n",
    "    def train_dataloader():\n",
    "        return DataLoader(\n",
    "                        lightly.data.LightlyDataset('../datasets/ImageNet64/train/'),\n",
    "                        batch_size=32,\n",
    "                        shuffle=True,\n",
    "                        collate_fn=collate_fn,\n",
    "                        drop_last=True,\n",
    "                        num_workers=8,\n",
    "                        pin_memory=False\n",
    "                    )"
   ]
  },
  {
   "cell_type": "code",
   "execution_count": 13,
   "id": "864af5f2",
   "metadata": {},
   "outputs": [],
   "source": [
    "logger = WandbLogger(name='simclr_imagenet', id='test-revert_batch2', project = 'rep_data', log_model=\"all\")\n",
    "checkpoint = pl.callbacks.ModelCheckpoint(monitor='train_loss',mode='min',save_last=True, every_n_epochs = 50)\n",
    "#lr_monitor = pl.callbacks.LearningRateMonitor(logging_interval='step')"
   ]
  },
  {
   "cell_type": "code",
   "execution_count": 14,
   "id": "9086a60b",
   "metadata": {
    "tags": []
   },
   "outputs": [
    {
     "name": "stdout",
     "output_type": "stream",
     "text": [
      "Sequential(\n",
      "  (0): Sequential(\n",
      "    (0): Conv2d(3, 64, kernel_size=(11, 11), stride=(4, 4), padding=(2, 2))\n",
      "    (1): ReLU(inplace=True)\n",
      "    (2): MaxPool2d(kernel_size=3, stride=2, padding=0, dilation=1, ceil_mode=False)\n",
      "    (3): Conv2d(64, 192, kernel_size=(5, 5), stride=(1, 1), padding=(2, 2))\n",
      "    (4): ReLU(inplace=True)\n",
      "    (5): MaxPool2d(kernel_size=3, stride=2, padding=0, dilation=1, ceil_mode=False)\n",
      "    (6): Conv2d(192, 384, kernel_size=(3, 3), stride=(1, 1), padding=(1, 1))\n",
      "    (7): ReLU(inplace=True)\n",
      "    (8): Conv2d(384, 256, kernel_size=(3, 3), stride=(1, 1), padding=(1, 1))\n",
      "    (9): ReLU(inplace=True)\n",
      "    (10): Conv2d(256, 256, kernel_size=(3, 3), stride=(1, 1), padding=(1, 1))\n",
      "    (11): ReLU(inplace=True)\n",
      "    (12): MaxPool2d(kernel_size=3, stride=2, padding=0, dilation=1, ceil_mode=False)\n",
      "  )\n",
      "  (1): AdaptiveAvgPool2d(output_size=(6, 6))\n",
      ")\n"
     ]
    },
    {
     "name": "stderr",
     "output_type": "stream",
     "text": [
      "/opt/conda/envs/python37/lib/python3.7/site-packages/pytorch_lightning/trainer/connectors/callback_connector.py:91: LightningDeprecationWarning: Setting `Trainer(progress_bar_refresh_rate=100)` is deprecated in v1.5 and will be removed in v1.7. Please pass `pytorch_lightning.callbacks.progress.TQDMProgressBar` with `refresh_rate` directly to the Trainer's `callbacks` argument instead. Or, to disable the progress bar pass `enable_progress_bar = False` to the Trainer.\n",
      "  f\"Setting `Trainer(progress_bar_refresh_rate={progress_bar_refresh_rate})` is deprecated in v1.5 and\"\n",
      "GPU available: True, used: True\n",
      "TPU available: False, using: 0 TPU cores\n",
      "IPU available: False, using: 0 IPUs\n",
      "LOCAL_RANK: 0 - CUDA_VISIBLE_DEVICES: [0,1]\n",
      "\n",
      "  | Name            | Type                 | Params\n",
      "---------------------------------------------------------\n",
      "0 | backbone        | Sequential           | 2.5 M \n",
      "1 | projection_head | SimCLRProjectionHead | 86.1 M\n",
      "2 | criterion       | NTXentLoss           | 0     \n",
      "---------------------------------------------------------\n",
      "88.6 M    Trainable params\n",
      "0         Non-trainable params\n",
      "88.6 M    Total params\n",
      "354.373   Total estimated model params size (MB)\n"
     ]
    },
    {
     "data": {
      "application/vnd.jupyter.widget-view+json": {
       "model_id": "f0296cca6e6042778e77cb91a0339575",
       "version_major": 2,
       "version_minor": 0
      },
      "text/plain": [
       "Training: 0it [00:00, ?it/s]"
      ]
     },
     "metadata": {},
     "output_type": "display_data"
    },
    {
     "name": "stderr",
     "output_type": "stream",
     "text": [
      "Failed to detect the name of this notebook, you can set it manually with the WANDB_NOTEBOOK_NAME environment variable to enable code saving.\n",
      "\u001b[34m\u001b[1mwandb\u001b[0m: Currently logged in as: \u001b[33maaprasad\u001b[0m (use `wandb login --relogin` to force relogin)\n"
     ]
    },
    {
     "data": {
      "text/html": [
       "Tracking run with wandb version 0.12.11"
      ],
      "text/plain": [
       "<IPython.core.display.HTML object>"
      ]
     },
     "metadata": {},
     "output_type": "display_data"
    },
    {
     "data": {
      "text/html": [
       "Run data is saved locally in <code>/home/jovyan/talmodata-nfs/aadi/wandb/run-20220301_213443-test-revert_batch2</code>"
      ],
      "text/plain": [
       "<IPython.core.display.HTML object>"
      ]
     },
     "metadata": {},
     "output_type": "display_data"
    },
    {
     "data": {
      "text/html": [
       "Syncing run <strong><a href=\"https://wandb.ai/aaprasad/rep_data/runs/test-revert_batch2\" target=\"_blank\">simclr_imagenet</a></strong> to <a href=\"https://wandb.ai/aaprasad/rep_data\" target=\"_blank\">Weights & Biases</a> (<a href=\"https://wandb.me/run\" target=\"_blank\">docs</a>)<br/>"
      ],
      "text/plain": [
       "<IPython.core.display.HTML object>"
      ]
     },
     "metadata": {},
     "output_type": "display_data"
    },
    {
     "name": "stderr",
     "output_type": "stream",
     "text": [
      "/opt/conda/envs/python37/lib/python3.7/site-packages/pytorch_lightning/trainer/trainer.py:688: UserWarning: Detected KeyboardInterrupt, attempting graceful shutdown...\n",
      "  rank_zero_warn(\"Detected KeyboardInterrupt, attempting graceful shutdown...\")\n"
     ]
    }
   ],
   "source": [
    "model = SimCLRModel()\n",
    "#logger.watch(model)\n",
    "trainer = pl.Trainer(gpus=-1,strategy=\"dp\",max_epochs=200, progress_bar_refresh_rate=100, logger=logger, callbacks=[checkpoint])\n",
    "trainer.fit(model,dataloader_train_simclr)"
   ]
  },
  {
   "cell_type": "code",
   "execution_count": null,
   "id": "aa2204c5",
   "metadata": {},
   "outputs": [],
   "source": [
    "logger.unwatch(model)"
   ]
  },
  {
   "cell_type": "code",
   "execution_count": null,
   "id": "2e7f9b68",
   "metadata": {
    "tags": []
   },
   "outputs": [],
   "source": [
    "class SimCLRTester(pl.LightningModule):\n",
    "    def __init__ (self, input_shape, SimCLR_model, num_classes, learning_rate=2e-4):\n",
    "        super().__init__()\n",
    "\n",
    "        self.learning_rate = learning_rate\n",
    "\n",
    "        self.encoder = SimCLR_model.backbone\n",
    "        self.encoder.eval()\n",
    "        # freeze params\n",
    "        for param in self.encoder.parameters():\n",
    "            param.requires_grad = False\n",
    "        n_sizes = self._get_conv_output(input_shape)\n",
    "\n",
    "        self.classifier = torch.nn.Linear(n_sizes, num_classes)\n",
    "\n",
    "    # returns the size of the output tensor going into Linear layer from the conv block.\n",
    "    def _get_conv_output(self, shape):\n",
    "        batch_size = 1\n",
    "        tmp_input = torch.autograd.Variable(torch.rand(batch_size, *shape))\n",
    "        output_feat = self._forward_features(tmp_input) \n",
    "        n_size = output_feat.data.view(batch_size, -1).size(1)\n",
    "        return n_size\n",
    "\n",
    "    # returns the feature tensor from the conv block\n",
    "    def _forward_features(self, x):\n",
    "        x = self.encoder(x)\n",
    "        return x\n",
    "\n",
    "    # will be used during inference\n",
    "    def forward(self, x):\n",
    "       x = self._forward_features(x)\n",
    "       x = x.view(x.size(0), -1)\n",
    "       x = self.classifier(x)\n",
    "\n",
    "       return x\n",
    "\n",
    "    def training_step(self, batch, batch_idx):\n",
    "        x, y = batch\n",
    "        logits = self(x)\n",
    "        loss = torch.nn.CrossEntropyLoss(logits, y)\n",
    "\n",
    "        # training metrics\n",
    "        preds = torch.argmax(logits, dim=1)\n",
    "        acc = self.accuracy(preds, y)\n",
    "        self.log('train_loss', loss, on_step=True, on_epoch=True, logger=True)\n",
    "        self.log('train_acc', acc, on_step=True, on_epoch=True, logger=True)\n",
    "\n",
    "        return loss\n",
    "\n",
    "    def validation_step(self, batch, batch_idx):\n",
    "        x, y = batch\n",
    "        logits = self(x)\n",
    "        print(type(logits))\n",
    "        loss = torch.nn.CrossEntropyLoss(logits, y)\n",
    "\n",
    "        # validation metrics\n",
    "        preds = torch.argmax(logits, dim=1)\n",
    "        acc = self.accuracy(preds, y)\n",
    "        self.log('val_loss', loss, prog_bar=True)\n",
    "        self.log('val_acc', acc, prog_bar=True)\n",
    "        return loss\n",
    "\n",
    "    def test_step(self, batch, batch_idx):\n",
    "        x, y = batch\n",
    "        logits = self(x)\n",
    "        loss = torch.nn.CrossEntropyLoss(logits, y)\n",
    "\n",
    "        # validation metrics\n",
    "        preds = torch.argmax(logits, dim=1)\n",
    "        acc = accuracy(preds, y)\n",
    "        self.log('test_loss', loss, prog_bar=True)\n",
    "        self.log('test_acc', acc, prog_bar=True)\n",
    "        return loss\n",
    "\n",
    "    def configure_optimizers(self):\n",
    "        optimizer = torch.optim.Adam(self.parameters(), lr=self.learning_rate)\n",
    "        return optimizer"
   ]
  },
  {
   "cell_type": "code",
   "execution_count": null,
   "id": "a6769a0c",
   "metadata": {
    "tags": []
   },
   "outputs": [],
   "source": [
    "test = SimCLRTester((3,64,64),model,1000)"
   ]
  },
  {
   "cell_type": "code",
   "execution_count": null,
   "id": "be49f0a1",
   "metadata": {},
   "outputs": [],
   "source": [
    "data = []\n",
    "labels = []\n",
    "for i in range(1,11):\n",
    "    print(f'loading batch {i}')\n",
    "    batch = np.load(f'../datasets/ImageNet64/npzs/train_data_batch_{i}.npz')\n",
    "    batch_x = batch['data']\n",
    "    batch_y = batch['labels']\n",
    "    batch_y = np.array([i-1 for i in batch_y])\n",
    "    batch_x = np.dstack((batch_x[:, :64*64], batch_x[:, 64*64:2*64*64], batch_x[:, 2*64*64:]))\n",
    "    batch_x = batch_x.reshape((batch_x.shape[0], 64, 64, 3)).transpose(0, 3, 1, 2).astype(np.float32)\n",
    "    data.append(batch_x)\n",
    "    labels.append(batch_y)\n",
    "data = np.concatenate(data)\n",
    "print(data.shape)\n",
    "labels = np.concatenate(labels)\n",
    "print(labels.shape)"
   ]
  },
  {
   "cell_type": "code",
   "execution_count": null,
   "id": "50e09def",
   "metadata": {},
   "outputs": [],
   "source": [
    "class ImageNet64(torch.utils.data.Dataset):\n",
    "    def __init__(self, x, y):\n",
    "        self.data = x\n",
    "        self.labels = y\n",
    "        self.size = y.shape[0]\n",
    "        \n",
    "    def __len__(self):\n",
    "        return self.size\n",
    "    \n",
    "    def __getitem__(self, idx):\n",
    "        return self.data[idx], self.labels[idx]"
   ]
  },
  {
   "cell_type": "code",
   "execution_count": null,
   "id": "cbb54051",
   "metadata": {},
   "outputs": [],
   "source": [
    "import math\n",
    "data = ImageNet64(data,labels)\n",
    "print(len(data))\n",
    "train_linear,val_linear = torch.utils.data.random_split(data,[math.floor(len(data)*.7),len(data)-math.floor(len(data)*.7)])"
   ]
  },
  {
   "cell_type": "code",
   "execution_count": null,
   "id": "909588d3",
   "metadata": {},
   "outputs": [],
   "source": [
    "train_linear = DataLoader(train_linear,batch_size=32, shuffle = True)\n",
    "val_linear = DataLoader(val_linear,batch_size=32)"
   ]
  },
  {
   "cell_type": "code",
   "execution_count": null,
   "id": "59acb1c5",
   "metadata": {
    "tags": []
   },
   "outputs": [],
   "source": [
    "linear_trainer = pl.Trainer()\n",
    "linear_trainer.fit(test,train_linear,val_linear)"
   ]
  },
  {
   "cell_type": "code",
   "execution_count": null,
   "id": "29d58b1e",
   "metadata": {},
   "outputs": [],
   "source": []
  }
 ],
 "metadata": {
  "kernelspec": {
   "display_name": "python37",
   "language": "python",
   "name": "python37"
  },
  "language_info": {
   "codemirror_mode": {
    "name": "ipython",
    "version": 3
   },
   "file_extension": ".py",
   "mimetype": "text/x-python",
   "name": "python",
   "nbconvert_exporter": "python",
   "pygments_lexer": "ipython3",
   "version": "3.7.12"
  }
 },
 "nbformat": 4,
 "nbformat_minor": 5
}
